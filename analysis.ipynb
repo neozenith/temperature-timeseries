{
 "cells": [
  {
   "cell_type": "markdown",
   "metadata": {},
   "source": [
    "# Analysis of Temperature Data\n",
    "A simple Raspberry Pi and DHT22 Temperature and Humidity sensor\n",
    "\n",
    "## Import Required libraries"
   ]
  },
  {
   "cell_type": "code",
   "execution_count": 32,
   "metadata": {},
   "outputs": [
    {
     "name": "stdout",
     "output_type": "stream",
     "text": [
      "module://ipykernel.pylab.backend_inline\n",
      "0.10.2\n",
      "1.17.4\n",
      "0.25.3\n"
     ]
    }
   ],
   "source": [
    "from pprint import pformat as pf, pprint as pp\n",
    "import json\n",
    "import logging\n",
    "import os\n",
    "\n",
    "log = logging.getLogger(__name__)\n",
    "logging.basicConfig(level=logging.INFO)\n",
    "\n",
    "import requests\n",
    "import pandas as pd\n",
    "import numpy as np\n",
    "import statsmodels\n",
    "from statsmodels.tsa.arima_model import ARIMA\n",
    "from statsmodels.tsa.arima_process import arma_generate_sample\n",
    "np.random.seed(3)\n",
    "\n",
    "from statsmodels.tsa import stattools\n",
    "import matplotlib.pyplot as plt\n",
    "import itermplot\n",
    "%matplotlib inline\n",
    "\n",
    "print(os.environ.get('MPLBACKEND', ''))\n",
    "print(statsmodels.__version__)\n",
    "print(np.__version__)\n",
    "print(pd.__version__)"
   ]
  },
  {
   "cell_type": "markdown",
   "metadata": {},
   "source": [
    "# Fetch Data"
   ]
  },
  {
   "cell_type": "code",
   "execution_count": null,
   "metadata": {},
   "outputs": [],
   "source": [
    "url = 'http://192.168.0.156:8000/metrics?from=300'\n",
    "response = requests.get(url)"
   ]
  },
  {
   "cell_type": "code",
   "execution_count": 4,
   "metadata": {},
   "outputs": [
    {
     "name": "stdout",
     "output_type": "stream",
     "text": [
      "local\n"
     ]
    }
   ],
   "source": [
    "#status_code = response.status_code\n",
    "status_code = 404\n",
    "if status_code == 200:\n",
    "    print(\"web\")\n",
    "    data = json.loads(response.content.decode('utf-8'))\n",
    "else:\n",
    "    print(\"local\")\n",
    "    with open('sample.json', 'r') as f:\n",
    "        data = json.load(f)\n"
   ]
  },
  {
   "cell_type": "markdown",
   "metadata": {},
   "source": [
    "# Tidy Data"
   ]
  },
  {
   "cell_type": "code",
   "execution_count": 5,
   "metadata": {},
   "outputs": [
    {
     "data": {
      "text/html": [
       "<div>\n",
       "<style scoped>\n",
       "    .dataframe tbody tr th:only-of-type {\n",
       "        vertical-align: middle;\n",
       "    }\n",
       "\n",
       "    .dataframe tbody tr th {\n",
       "        vertical-align: top;\n",
       "    }\n",
       "\n",
       "    .dataframe thead th {\n",
       "        text-align: right;\n",
       "    }\n",
       "</style>\n",
       "<table border=\"1\" class=\"dataframe\">\n",
       "  <thead>\n",
       "    <tr style=\"text-align: right;\">\n",
       "      <th></th>\n",
       "      <th>id</th>\n",
       "      <th>metric</th>\n",
       "      <th>ts</th>\n",
       "      <th>value</th>\n",
       "    </tr>\n",
       "  </thead>\n",
       "  <tbody>\n",
       "    <tr>\n",
       "      <th>0</th>\n",
       "      <td>498459</td>\n",
       "      <td>temperature</td>\n",
       "      <td>1.570597e+09</td>\n",
       "      <td>24.600000</td>\n",
       "    </tr>\n",
       "    <tr>\n",
       "      <th>1</th>\n",
       "      <td>498460</td>\n",
       "      <td>humidity</td>\n",
       "      <td>1.570597e+09</td>\n",
       "      <td>60.299999</td>\n",
       "    </tr>\n",
       "    <tr>\n",
       "      <th>2</th>\n",
       "      <td>498457</td>\n",
       "      <td>temperature</td>\n",
       "      <td>1.570597e+09</td>\n",
       "      <td>24.600000</td>\n",
       "    </tr>\n",
       "    <tr>\n",
       "      <th>3</th>\n",
       "      <td>498458</td>\n",
       "      <td>humidity</td>\n",
       "      <td>1.570597e+09</td>\n",
       "      <td>60.299999</td>\n",
       "    </tr>\n",
       "    <tr>\n",
       "      <th>4</th>\n",
       "      <td>498455</td>\n",
       "      <td>temperature</td>\n",
       "      <td>1.570597e+09</td>\n",
       "      <td>24.600000</td>\n",
       "    </tr>\n",
       "    <tr>\n",
       "      <th>...</th>\n",
       "      <td>...</td>\n",
       "      <td>...</td>\n",
       "      <td>...</td>\n",
       "      <td>...</td>\n",
       "    </tr>\n",
       "    <tr>\n",
       "      <th>206465</th>\n",
       "      <td>291996</td>\n",
       "      <td>humidity</td>\n",
       "      <td>1.569993e+09</td>\n",
       "      <td>61.799999</td>\n",
       "    </tr>\n",
       "    <tr>\n",
       "      <th>206466</th>\n",
       "      <td>291993</td>\n",
       "      <td>temperature</td>\n",
       "      <td>1.569993e+09</td>\n",
       "      <td>25.600000</td>\n",
       "    </tr>\n",
       "    <tr>\n",
       "      <th>206467</th>\n",
       "      <td>291994</td>\n",
       "      <td>humidity</td>\n",
       "      <td>1.569993e+09</td>\n",
       "      <td>61.799999</td>\n",
       "    </tr>\n",
       "    <tr>\n",
       "      <th>206468</th>\n",
       "      <td>291991</td>\n",
       "      <td>temperature</td>\n",
       "      <td>1.569993e+09</td>\n",
       "      <td>25.600000</td>\n",
       "    </tr>\n",
       "    <tr>\n",
       "      <th>206469</th>\n",
       "      <td>291992</td>\n",
       "      <td>humidity</td>\n",
       "      <td>1.569993e+09</td>\n",
       "      <td>61.799999</td>\n",
       "    </tr>\n",
       "  </tbody>\n",
       "</table>\n",
       "<p>206470 rows × 4 columns</p>\n",
       "</div>"
      ],
      "text/plain": [
       "            id       metric            ts      value\n",
       "0       498459  temperature  1.570597e+09  24.600000\n",
       "1       498460     humidity  1.570597e+09  60.299999\n",
       "2       498457  temperature  1.570597e+09  24.600000\n",
       "3       498458     humidity  1.570597e+09  60.299999\n",
       "4       498455  temperature  1.570597e+09  24.600000\n",
       "...        ...          ...           ...        ...\n",
       "206465  291996     humidity  1.569993e+09  61.799999\n",
       "206466  291993  temperature  1.569993e+09  25.600000\n",
       "206467  291994     humidity  1.569993e+09  61.799999\n",
       "206468  291991  temperature  1.569993e+09  25.600000\n",
       "206469  291992     humidity  1.569993e+09  61.799999\n",
       "\n",
       "[206470 rows x 4 columns]"
      ]
     },
     "execution_count": 5,
     "metadata": {},
     "output_type": "execute_result"
    }
   ],
   "source": [
    "df = pd.DataFrame(data)\n",
    "df"
   ]
  },
  {
   "cell_type": "code",
   "execution_count": 6,
   "metadata": {},
   "outputs": [
    {
     "data": {
      "text/html": [
       "<div>\n",
       "<style scoped>\n",
       "    .dataframe tbody tr th:only-of-type {\n",
       "        vertical-align: middle;\n",
       "    }\n",
       "\n",
       "    .dataframe tbody tr th {\n",
       "        vertical-align: top;\n",
       "    }\n",
       "\n",
       "    .dataframe thead th {\n",
       "        text-align: right;\n",
       "    }\n",
       "</style>\n",
       "<table border=\"1\" class=\"dataframe\">\n",
       "  <thead>\n",
       "    <tr style=\"text-align: right;\">\n",
       "      <th></th>\n",
       "      <th>id</th>\n",
       "      <th>metric</th>\n",
       "      <th>ts</th>\n",
       "      <th>value</th>\n",
       "    </tr>\n",
       "  </thead>\n",
       "  <tbody>\n",
       "    <tr>\n",
       "      <th>0</th>\n",
       "      <td>498459</td>\n",
       "      <td>temperature</td>\n",
       "      <td>2019-10-09 05:02:49.808440924</td>\n",
       "      <td>24.600000</td>\n",
       "    </tr>\n",
       "    <tr>\n",
       "      <th>1</th>\n",
       "      <td>498460</td>\n",
       "      <td>humidity</td>\n",
       "      <td>2019-10-09 05:02:49.808440924</td>\n",
       "      <td>60.299999</td>\n",
       "    </tr>\n",
       "    <tr>\n",
       "      <th>2</th>\n",
       "      <td>498457</td>\n",
       "      <td>temperature</td>\n",
       "      <td>2019-10-09 05:02:41.699953079</td>\n",
       "      <td>24.600000</td>\n",
       "    </tr>\n",
       "    <tr>\n",
       "      <th>3</th>\n",
       "      <td>498458</td>\n",
       "      <td>humidity</td>\n",
       "      <td>2019-10-09 05:02:41.699953079</td>\n",
       "      <td>60.299999</td>\n",
       "    </tr>\n",
       "    <tr>\n",
       "      <th>4</th>\n",
       "      <td>498455</td>\n",
       "      <td>temperature</td>\n",
       "      <td>2019-10-09 05:02:36.119760036</td>\n",
       "      <td>24.600000</td>\n",
       "    </tr>\n",
       "    <tr>\n",
       "      <th>...</th>\n",
       "      <td>...</td>\n",
       "      <td>...</td>\n",
       "      <td>...</td>\n",
       "      <td>...</td>\n",
       "    </tr>\n",
       "    <tr>\n",
       "      <th>206465</th>\n",
       "      <td>291996</td>\n",
       "      <td>humidity</td>\n",
       "      <td>2019-10-02 05:08:03.949400902</td>\n",
       "      <td>61.799999</td>\n",
       "    </tr>\n",
       "    <tr>\n",
       "      <th>206466</th>\n",
       "      <td>291993</td>\n",
       "      <td>temperature</td>\n",
       "      <td>2019-10-02 05:07:58.392137051</td>\n",
       "      <td>25.600000</td>\n",
       "    </tr>\n",
       "    <tr>\n",
       "      <th>206467</th>\n",
       "      <td>291994</td>\n",
       "      <td>humidity</td>\n",
       "      <td>2019-10-02 05:07:58.392137051</td>\n",
       "      <td>61.799999</td>\n",
       "    </tr>\n",
       "    <tr>\n",
       "      <th>206468</th>\n",
       "      <td>291991</td>\n",
       "      <td>temperature</td>\n",
       "      <td>2019-10-02 05:07:52.811564922</td>\n",
       "      <td>25.600000</td>\n",
       "    </tr>\n",
       "    <tr>\n",
       "      <th>206469</th>\n",
       "      <td>291992</td>\n",
       "      <td>humidity</td>\n",
       "      <td>2019-10-02 05:07:52.811564922</td>\n",
       "      <td>61.799999</td>\n",
       "    </tr>\n",
       "  </tbody>\n",
       "</table>\n",
       "<p>206470 rows × 4 columns</p>\n",
       "</div>"
      ],
      "text/plain": [
       "            id       metric                            ts      value\n",
       "0       498459  temperature 2019-10-09 05:02:49.808440924  24.600000\n",
       "1       498460     humidity 2019-10-09 05:02:49.808440924  60.299999\n",
       "2       498457  temperature 2019-10-09 05:02:41.699953079  24.600000\n",
       "3       498458     humidity 2019-10-09 05:02:41.699953079  60.299999\n",
       "4       498455  temperature 2019-10-09 05:02:36.119760036  24.600000\n",
       "...        ...          ...                           ...        ...\n",
       "206465  291996     humidity 2019-10-02 05:08:03.949400902  61.799999\n",
       "206466  291993  temperature 2019-10-02 05:07:58.392137051  25.600000\n",
       "206467  291994     humidity 2019-10-02 05:07:58.392137051  61.799999\n",
       "206468  291991  temperature 2019-10-02 05:07:52.811564922  25.600000\n",
       "206469  291992     humidity 2019-10-02 05:07:52.811564922  61.799999\n",
       "\n",
       "[206470 rows x 4 columns]"
      ]
     },
     "execution_count": 6,
     "metadata": {},
     "output_type": "execute_result"
    }
   ],
   "source": [
    "df['ts'] = pd.to_datetime(df['ts'], unit='s')\n",
    "df"
   ]
  },
  {
   "cell_type": "code",
   "execution_count": 7,
   "metadata": {},
   "outputs": [
    {
     "data": {
      "text/html": [
       "<div>\n",
       "<style scoped>\n",
       "    .dataframe tbody tr th:only-of-type {\n",
       "        vertical-align: middle;\n",
       "    }\n",
       "\n",
       "    .dataframe tbody tr th {\n",
       "        vertical-align: top;\n",
       "    }\n",
       "\n",
       "    .dataframe thead th {\n",
       "        text-align: right;\n",
       "    }\n",
       "</style>\n",
       "<table border=\"1\" class=\"dataframe\">\n",
       "  <thead>\n",
       "    <tr style=\"text-align: right;\">\n",
       "      <th></th>\n",
       "      <th>id</th>\n",
       "      <th>metric</th>\n",
       "      <th>value</th>\n",
       "    </tr>\n",
       "    <tr>\n",
       "      <th>ts</th>\n",
       "      <th></th>\n",
       "      <th></th>\n",
       "      <th></th>\n",
       "    </tr>\n",
       "  </thead>\n",
       "  <tbody>\n",
       "    <tr>\n",
       "      <th>2019-10-09 05:02:49.808440924</th>\n",
       "      <td>498459</td>\n",
       "      <td>temperature</td>\n",
       "      <td>24.600000</td>\n",
       "    </tr>\n",
       "    <tr>\n",
       "      <th>2019-10-09 05:02:49.808440924</th>\n",
       "      <td>498460</td>\n",
       "      <td>humidity</td>\n",
       "      <td>60.299999</td>\n",
       "    </tr>\n",
       "    <tr>\n",
       "      <th>2019-10-09 05:02:41.699953079</th>\n",
       "      <td>498457</td>\n",
       "      <td>temperature</td>\n",
       "      <td>24.600000</td>\n",
       "    </tr>\n",
       "    <tr>\n",
       "      <th>2019-10-09 05:02:41.699953079</th>\n",
       "      <td>498458</td>\n",
       "      <td>humidity</td>\n",
       "      <td>60.299999</td>\n",
       "    </tr>\n",
       "    <tr>\n",
       "      <th>2019-10-09 05:02:36.119760036</th>\n",
       "      <td>498455</td>\n",
       "      <td>temperature</td>\n",
       "      <td>24.600000</td>\n",
       "    </tr>\n",
       "    <tr>\n",
       "      <th>...</th>\n",
       "      <td>...</td>\n",
       "      <td>...</td>\n",
       "      <td>...</td>\n",
       "    </tr>\n",
       "    <tr>\n",
       "      <th>2019-10-02 05:08:03.949400902</th>\n",
       "      <td>291996</td>\n",
       "      <td>humidity</td>\n",
       "      <td>61.799999</td>\n",
       "    </tr>\n",
       "    <tr>\n",
       "      <th>2019-10-02 05:07:58.392137051</th>\n",
       "      <td>291993</td>\n",
       "      <td>temperature</td>\n",
       "      <td>25.600000</td>\n",
       "    </tr>\n",
       "    <tr>\n",
       "      <th>2019-10-02 05:07:58.392137051</th>\n",
       "      <td>291994</td>\n",
       "      <td>humidity</td>\n",
       "      <td>61.799999</td>\n",
       "    </tr>\n",
       "    <tr>\n",
       "      <th>2019-10-02 05:07:52.811564922</th>\n",
       "      <td>291991</td>\n",
       "      <td>temperature</td>\n",
       "      <td>25.600000</td>\n",
       "    </tr>\n",
       "    <tr>\n",
       "      <th>2019-10-02 05:07:52.811564922</th>\n",
       "      <td>291992</td>\n",
       "      <td>humidity</td>\n",
       "      <td>61.799999</td>\n",
       "    </tr>\n",
       "  </tbody>\n",
       "</table>\n",
       "<p>206470 rows × 3 columns</p>\n",
       "</div>"
      ],
      "text/plain": [
       "                                   id       metric      value\n",
       "ts                                                           \n",
       "2019-10-09 05:02:49.808440924  498459  temperature  24.600000\n",
       "2019-10-09 05:02:49.808440924  498460     humidity  60.299999\n",
       "2019-10-09 05:02:41.699953079  498457  temperature  24.600000\n",
       "2019-10-09 05:02:41.699953079  498458     humidity  60.299999\n",
       "2019-10-09 05:02:36.119760036  498455  temperature  24.600000\n",
       "...                               ...          ...        ...\n",
       "2019-10-02 05:08:03.949400902  291996     humidity  61.799999\n",
       "2019-10-02 05:07:58.392137051  291993  temperature  25.600000\n",
       "2019-10-02 05:07:58.392137051  291994     humidity  61.799999\n",
       "2019-10-02 05:07:52.811564922  291991  temperature  25.600000\n",
       "2019-10-02 05:07:52.811564922  291992     humidity  61.799999\n",
       "\n",
       "[206470 rows x 3 columns]"
      ]
     },
     "execution_count": 7,
     "metadata": {},
     "output_type": "execute_result"
    }
   ],
   "source": [
    "df = df.set_index('ts')\n",
    "df"
   ]
  },
  {
   "cell_type": "code",
   "execution_count": 8,
   "metadata": {},
   "outputs": [
    {
     "data": {
      "text/plain": [
       "DatetimeIndex(['2019-10-02 05:00:00', '2019-10-02 06:00:00',\n",
       "               '2019-10-02 07:00:00', '2019-10-02 08:00:00',\n",
       "               '2019-10-02 09:00:00', '2019-10-02 10:00:00',\n",
       "               '2019-10-02 11:00:00', '2019-10-02 12:00:00',\n",
       "               '2019-10-02 13:00:00', '2019-10-02 14:00:00',\n",
       "               ...\n",
       "               '2019-10-08 20:00:00', '2019-10-08 21:00:00',\n",
       "               '2019-10-08 22:00:00', '2019-10-08 23:00:00',\n",
       "               '2019-10-09 00:00:00', '2019-10-09 01:00:00',\n",
       "               '2019-10-09 02:00:00', '2019-10-09 03:00:00',\n",
       "               '2019-10-09 04:00:00', '2019-10-09 05:00:00'],\n",
       "              dtype='datetime64[ns]', name='ts', length=169, freq='H')"
      ]
     },
     "execution_count": 8,
     "metadata": {},
     "output_type": "execute_result"
    }
   ],
   "source": [
    "df = df.dropna()\n",
    "df_temp = df[df['metric'] == 'temperature'][['value']].resample('H').mean()\n",
    "df_temp.index"
   ]
  },
  {
   "cell_type": "code",
   "execution_count": 9,
   "metadata": {},
   "outputs": [
    {
     "data": {
      "text/plain": [
       "<matplotlib.axes._subplots.AxesSubplot at 0x20378017080>"
      ]
     },
     "execution_count": 9,
     "metadata": {},
     "output_type": "execute_result"
    },
    {
     "data": {
      "image/png": "[encoded data removed]",
      "text/plain": [
       "<Figure size 432x288 with 1 Axes>"
      ]
     },
     "metadata": {
      "needs_background": "light"
     },
     "output_type": "display_data"
    }
   ],
   "source": [
    "df_temp.plot()"
   ]
  },
  {
   "cell_type": "markdown",
   "metadata": {},
   "source": [
    "# Differencing"
   ]
  },
  {
   "cell_type": "code",
   "execution_count": 26,
   "metadata": {},
   "outputs": [],
   "source": [
    "df_diff = df_temp.diff().dropna()"
   ]
  },
  {
   "cell_type": "code",
   "execution_count": 27,
   "metadata": {},
   "outputs": [
    {
     "data": {
      "text/plain": [
       "<matplotlib.axes._subplots.AxesSubplot at 0x2037ca05160>"
      ]
     },
     "execution_count": 27,
     "metadata": {},
     "output_type": "execute_result"
    },
    {
     "data": {
      "image/png": "[encoded data removed]",
      "text/plain": [
       "<Figure size 432x288 with 1 Axes>"
      ]
     },
     "metadata": {
      "needs_background": "light"
     },
     "output_type": "display_data"
    }
   ],
   "source": [
    "df_diff.plot()"
   ]
  },
  {
   "cell_type": "markdown",
   "metadata": {},
   "source": [
    "# Stationarity Tests\n",
    "## Augmented Dickey-Fuller Test\n",
    "\n",
    "https://www.statsmodels.org/stable/generated/statsmodels.tsa.stattools.adfuller.html#statsmodels.tsa.stattools.adfuller\n",
    "\n",
    "> Null Hypothesis (H0): Time Series is NOT stationary. \n",
    "\n",
    "**adf**: `float`\n",
    "\n",
    "Test statistic\n",
    "\n",
    "**pvalue**: `float`\n",
    "\n",
    "MacKinnon’s approximate p-value based on MacKinnon (1994, 2010)\n",
    "\n",
    "**usedlag**: `int`\n",
    "\n",
    "Number of lags used\n",
    "\n",
    "**nobs**: `int`\n",
    "\n",
    "Number of observations used for the ADF regression and calculation of the critical values\n",
    "\n",
    "**critical values**: `dict`\n",
    "\n",
    "Critical values for the test statistic at the 1 %, 5 %, and 10 % levels. Based on MacKinnon (2010)\n",
    "\n",
    "**icbest**: `float`\n",
    "The maximized information criterion if autolag is not None."
   ]
  },
  {
   "cell_type": "code",
   "execution_count": 30,
   "metadata": {},
   "outputs": [
    {
     "name": "stdout",
     "output_type": "stream",
     "text": [
      "TEMPERATURE\n",
      "p-value: 0.0002461217734312248\n",
      "Reject H0. Reject non-stationary. It could be stationary.\n"
     ]
    }
   ],
   "source": [
    "print(\"TEMPERATURE\")\n",
    "results = stattools.adfuller(df_temp['value'])\n",
    "\n",
    "adf, pvalue, usedlag, no_obs, critical_values, ic_best = results\n",
    "\n",
    "print(f\"p-value: {pvalue}\")\n",
    "if pvalue < 0.05:\n",
    "    print(\"Reject H0. Reject non-stationary. It could be stationary.\")\n",
    "else:\n",
    "    print(\"Could not reject H0. It is not likely stationary.\")"
   ]
  },
  {
   "cell_type": "code",
   "execution_count": 31,
   "metadata": {},
   "outputs": [
    {
     "name": "stdout",
     "output_type": "stream",
     "text": [
      "DIFFERENCED\n",
      "p-value: 7.172220353904693e-08\n",
      "Reject H0. Reject non-stationary. It could be stationary.\n"
     ]
    }
   ],
   "source": [
    "print(\"DIFFERENCED\")\n",
    "results = stattools.adfuller(df_diff['value'])\n",
    "\n",
    "adf, pvalue, usedlag, no_obs, critical_values, ic_best = results\n",
    "\n",
    "print(f\"p-value: {pvalue}\")\n",
    "if pvalue < 0.05:\n",
    "    print(\"Reject H0. Reject non-stationary. It could be stationary.\")\n",
    "else:\n",
    "    print(\"Could not reject H0. It is not likely stationary.\")"
   ]
  },
  {
   "cell_type": "markdown",
   "metadata": {},
   "source": [
    "# Auto Correlation Plots"
   ]
  },
  {
   "cell_type": "code",
   "execution_count": 15,
   "metadata": {},
   "outputs": [],
   "source": [
    "df_acf = pd.DataFrame(stattools.acf(df_temp.dropna(), fft=True))"
   ]
  },
  {
   "cell_type": "code",
   "execution_count": 16,
   "metadata": {},
   "outputs": [
    {
     "data": {
      "text/plain": [
       "<matplotlib.axes._subplots.AxesSubplot at 0x2037898fc88>"
      ]
     },
     "execution_count": 16,
     "metadata": {},
     "output_type": "execute_result"
    },
    {
     "data": {
      "image/png": "[encoded data removed]",
      "text/plain": [
       "<Figure size 432x288 with 1 Axes>"
      ]
     },
     "metadata": {
      "needs_background": "light"
     },
     "output_type": "display_data"
    }
   ],
   "source": [
    "df_acf.plot()"
   ]
  },
  {
   "cell_type": "code",
   "execution_count": 17,
   "metadata": {},
   "outputs": [],
   "source": [
    "df_pacf = pd.DataFrame(stattools.pacf(df_temp.dropna(), method='ols-inefficient'))"
   ]
  },
  {
   "cell_type": "code",
   "execution_count": 18,
   "metadata": {},
   "outputs": [
    {
     "data": {
      "text/plain": [
       "<matplotlib.axes._subplots.AxesSubplot at 0x2037c99e048>"
      ]
     },
     "execution_count": 18,
     "metadata": {},
     "output_type": "execute_result"
    },
    {
     "data": {
      "image/png": "[encoded data removed]",
      "text/plain": [
       "<Figure size 432x288 with 1 Axes>"
      ]
     },
     "metadata": {
      "needs_background": "light"
     },
     "output_type": "display_data"
    }
   ],
   "source": [
    "df_pacf.plot()"
   ]
  },
  {
   "cell_type": "code",
   "execution_count": 19,
   "metadata": {},
   "outputs": [
    {
     "data": {
      "text/html": [
       "<div>\n",
       "<style scoped>\n",
       "    .dataframe tbody tr th:only-of-type {\n",
       "        vertical-align: middle;\n",
       "    }\n",
       "\n",
       "    .dataframe tbody tr th {\n",
       "        vertical-align: top;\n",
       "    }\n",
       "\n",
       "    .dataframe thead th {\n",
       "        text-align: right;\n",
       "    }\n",
       "</style>\n",
       "<table border=\"1\" class=\"dataframe\">\n",
       "  <thead>\n",
       "    <tr style=\"text-align: right;\">\n",
       "      <th></th>\n",
       "      <th>0</th>\n",
       "    </tr>\n",
       "  </thead>\n",
       "  <tbody>\n",
       "    <tr>\n",
       "      <th>0</th>\n",
       "      <td>1.000000</td>\n",
       "    </tr>\n",
       "    <tr>\n",
       "      <th>1</th>\n",
       "      <td>0.968942</td>\n",
       "    </tr>\n",
       "    <tr>\n",
       "      <th>2</th>\n",
       "      <td>-0.904331</td>\n",
       "    </tr>\n",
       "    <tr>\n",
       "      <th>3</th>\n",
       "      <td>0.485297</td>\n",
       "    </tr>\n",
       "    <tr>\n",
       "      <th>4</th>\n",
       "      <td>-0.078144</td>\n",
       "    </tr>\n",
       "    <tr>\n",
       "      <th>5</th>\n",
       "      <td>-0.085320</td>\n",
       "    </tr>\n",
       "  </tbody>\n",
       "</table>\n",
       "</div>"
      ],
      "text/plain": [
       "          0\n",
       "0  1.000000\n",
       "1  0.968942\n",
       "2 -0.904331\n",
       "3  0.485297\n",
       "4 -0.078144\n",
       "5 -0.085320"
      ]
     },
     "execution_count": 19,
     "metadata": {},
     "output_type": "execute_result"
    }
   ],
   "source": [
    "df_pacf[:6]"
   ]
  },
  {
   "cell_type": "markdown",
   "metadata": {},
   "source": [
    "## ACF\n",
    "\n",
    "The Auto Correlation Function, has strong correlation at lags 12, 24, 36 but overall decays slowly.\n",
    "\n",
    "## PACF\n",
    "\n",
    "The Partial Auto Correlation function drops off rapidly after 2 lags which suggests a strong Auto Regressive relationship. \n",
    "\n",
    "Lets look at fitting an ARIMA model next."
   ]
  },
  {
   "cell_type": "markdown",
   "metadata": {},
   "source": [
    "# ARIMA"
   ]
  },
  {
   "cell_type": "code",
   "execution_count": 60,
   "metadata": {},
   "outputs": [],
   "source": [
    "df_temp.to_csv(\"data.csv\")"
   ]
  },
  {
   "cell_type": "code",
   "execution_count": 61,
   "metadata": {},
   "outputs": [
    {
     "data": {
      "text/plain": [
       "DatetimeIndex(['2019-09-22 07:00:00', '2019-09-22 08:00:00',\n",
       "               '2019-09-22 09:00:00', '2019-09-22 10:00:00',\n",
       "               '2019-09-22 11:00:00', '2019-09-22 12:00:00',\n",
       "               '2019-09-22 13:00:00', '2019-09-22 14:00:00',\n",
       "               '2019-09-22 15:00:00', '2019-09-22 16:00:00',\n",
       "               ...\n",
       "               '2019-11-26 01:00:00', '2019-11-26 02:00:00',\n",
       "               '2019-11-26 03:00:00', '2019-11-26 04:00:00',\n",
       "               '2019-11-26 05:00:00', '2019-11-26 06:00:00',\n",
       "               '2019-11-26 07:00:00', '2019-11-26 08:00:00',\n",
       "               '2019-11-26 09:00:00', '2019-11-26 10:00:00'],\n",
       "              dtype='datetime64[ns]', name='ts', length=1564, freq='H')"
      ]
     },
     "execution_count": 61,
     "metadata": {},
     "output_type": "execute_result"
    }
   ],
   "source": [
    "df_temp.index"
   ]
  },
  {
   "cell_type": "code",
   "execution_count": 49,
   "metadata": {},
   "outputs": [],
   "source": [
    "model = ARIMA(df_temp['value'].dropna(), (2,1,1)).fit()"
   ]
  },
  {
   "cell_type": "code",
   "execution_count": 50,
   "metadata": {},
   "outputs": [
    {
     "data": {
      "text/html": [
       "<table class=\"simpletable\">\n",
       "<caption>ARIMA Model Results</caption>\n",
       "<tr>\n",
       "  <th>Dep. Variable:</th>      <td>D.value</td>     <th>  No. Observations:  </th>   <td>168</td>  \n",
       "</tr>\n",
       "<tr>\n",
       "  <th>Model:</th>          <td>ARIMA(2, 1, 1)</td>  <th>  Log Likelihood     </th> <td>34.041</td> \n",
       "</tr>\n",
       "<tr>\n",
       "  <th>Method:</th>             <td>css-mle</td>     <th>  S.D. of innovations</th>  <td>0.196</td> \n",
       "</tr>\n",
       "<tr>\n",
       "  <th>Date:</th>          <td>Wed, 27 Nov 2019</td> <th>  AIC                </th> <td>-58.083</td>\n",
       "</tr>\n",
       "<tr>\n",
       "  <th>Time:</th>              <td>14:24:49</td>     <th>  BIC                </th> <td>-42.463</td>\n",
       "</tr>\n",
       "<tr>\n",
       "  <th>Sample:</th>           <td>10-02-2019</td>    <th>  HQIC               </th> <td>-51.743</td>\n",
       "</tr>\n",
       "<tr>\n",
       "  <th></th>                 <td>- 10-09-2019</td>   <th>                     </th>    <td> </td>   \n",
       "</tr>\n",
       "</table>\n",
       "<table class=\"simpletable\">\n",
       "<tr>\n",
       "        <td></td>           <th>coef</th>     <th>std err</th>      <th>z</th>      <th>P>|z|</th>  <th>[0.025</th>    <th>0.975]</th>  \n",
       "</tr>\n",
       "<tr>\n",
       "  <th>const</th>         <td>   -0.0110</td> <td>    0.083</td> <td>   -0.132</td> <td> 0.895</td> <td>   -0.174</td> <td>    0.152</td>\n",
       "</tr>\n",
       "<tr>\n",
       "  <th>ar.L1.D.value</th> <td>    1.4197</td> <td>    0.095</td> <td>   14.986</td> <td> 0.000</td> <td>    1.234</td> <td>    1.605</td>\n",
       "</tr>\n",
       "<tr>\n",
       "  <th>ar.L2.D.value</th> <td>   -0.6051</td> <td>    0.088</td> <td>   -6.843</td> <td> 0.000</td> <td>   -0.778</td> <td>   -0.432</td>\n",
       "</tr>\n",
       "<tr>\n",
       "  <th>ma.L1.D.value</th> <td>    0.0290</td> <td>    0.119</td> <td>    0.244</td> <td> 0.807</td> <td>   -0.204</td> <td>    0.261</td>\n",
       "</tr>\n",
       "</table>\n",
       "<table class=\"simpletable\">\n",
       "<caption>Roots</caption>\n",
       "<tr>\n",
       "    <td></td>   <th>            Real</th>  <th>         Imaginary</th> <th>         Modulus</th>  <th>        Frequency</th>\n",
       "</tr>\n",
       "<tr>\n",
       "  <th>AR.1</th> <td>           1.1731</td> <td>          -0.5258j</td> <td>           1.2855</td> <td>          -0.0671</td>\n",
       "</tr>\n",
       "<tr>\n",
       "  <th>AR.2</th> <td>           1.1731</td> <td>          +0.5258j</td> <td>           1.2855</td> <td>           0.0671</td>\n",
       "</tr>\n",
       "<tr>\n",
       "  <th>MA.1</th> <td>         -34.5374</td> <td>          +0.0000j</td> <td>          34.5374</td> <td>           0.5000</td>\n",
       "</tr>\n",
       "</table>"
      ],
      "text/plain": [
       "<class 'statsmodels.iolib.summary.Summary'>\n",
       "\"\"\"\n",
       "                             ARIMA Model Results                              \n",
       "==============================================================================\n",
       "Dep. Variable:                D.value   No. Observations:                  168\n",
       "Model:                 ARIMA(2, 1, 1)   Log Likelihood                  34.041\n",
       "Method:                       css-mle   S.D. of innovations              0.196\n",
       "Date:                Wed, 27 Nov 2019   AIC                            -58.083\n",
       "Time:                        14:24:49   BIC                            -42.463\n",
       "Sample:                    10-02-2019   HQIC                           -51.743\n",
       "                         - 10-09-2019                                         \n",
       "=================================================================================\n",
       "                    coef    std err          z      P>|z|      [0.025      0.975]\n",
       "---------------------------------------------------------------------------------\n",
       "const            -0.0110      0.083     -0.132      0.895      -0.174       0.152\n",
       "ar.L1.D.value     1.4197      0.095     14.986      0.000       1.234       1.605\n",
       "ar.L2.D.value    -0.6051      0.088     -6.843      0.000      -0.778      -0.432\n",
       "ma.L1.D.value     0.0290      0.119      0.244      0.807      -0.204       0.261\n",
       "                                    Roots                                    \n",
       "=============================================================================\n",
       "                  Real          Imaginary           Modulus         Frequency\n",
       "-----------------------------------------------------------------------------\n",
       "AR.1            1.1731           -0.5258j            1.2855           -0.0671\n",
       "AR.2            1.1731           +0.5258j            1.2855            0.0671\n",
       "MA.1          -34.5374           +0.0000j           34.5374            0.5000\n",
       "-----------------------------------------------------------------------------\n",
       "\"\"\""
      ]
     },
     "execution_count": 50,
     "metadata": {},
     "output_type": "execute_result"
    }
   ],
   "source": [
    "model.summary()"
   ]
  },
  {
   "cell_type": "code",
   "execution_count": 51,
   "metadata": {},
   "outputs": [
    {
     "data": {
      "image/png": "[encoded data removed]",
      "text/plain": [
       "<Figure size 432x288 with 1 Axes>"
      ]
     },
     "metadata": {
      "needs_background": "light"
     },
     "output_type": "display_data"
    }
   ],
   "source": [
    "# Set coefficients\n",
    "ar_coefs = [1, -1.4197, 0.6051]\n",
    "ma_coefs = [1, 0.0290]\n",
    "\n",
    "# Generate data\n",
    "y = arma_generate_sample(ar_coefs, ma_coefs, nsample=100, sigma=0.5, )\n",
    "\n",
    "plt.plot(y)\n",
    "plt.ylabel(r'$y_t$')\n",
    "plt.xlabel(r'$t$')\n",
    "plt.show()"
   ]
  },
  {
   "cell_type": "code",
   "execution_count": 52,
   "metadata": {},
   "outputs": [
    {
     "data": {
      "text/plain": [
       "<matplotlib.axes._subplots.AxesSubplot at 0x2037f089d68>"
      ]
     },
     "execution_count": 52,
     "metadata": {},
     "output_type": "execute_result"
    },
    {
     "data": {
      "image/png": "[encoded data removed]",
      "text/plain": [
       "<Figure size 432x288 with 1 Axes>"
      ]
     },
     "metadata": {
      "needs_background": "light"
     },
     "output_type": "display_data"
    }
   ],
   "source": [
    "df_temp.plot()"
   ]
  },
  {
   "cell_type": "code",
   "execution_count": null,
   "metadata": {},
   "outputs": [],
   "source": []
  }
 ],
 "metadata": {
  "kernelspec": {
   "display_name": "Python 3",
   "language": "python",
   "name": "python3"
  },
  "language_info": {
   "codemirror_mode": {
    "name": "ipython",
    "version": 3
   },
   "file_extension": ".py",
   "mimetype": "text/x-python",
   "name": "python",
   "nbconvert_exporter": "python",
   "pygments_lexer": "ipython3",
   "version": "3.7.3"
  }
 },
 "nbformat": 4,
 "nbformat_minor": 4
}
