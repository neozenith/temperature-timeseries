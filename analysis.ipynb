{
 "cells": [
  {
   "cell_type": "markdown",
   "metadata": {},
   "source": [
    "# Analysis of Temperature Data\n",
    "A simple Raspberry Pi and DHT22 Temperature and Humidity sensor\n",
    "\n",
    "## Import Required libraries"
   ]
  },
  {
   "cell_type": "code",
   "execution_count": 65,
   "metadata": {},
   "outputs": [
    {
     "name": "stdout",
     "output_type": "stream",
     "text": [
      "module://itermplot\n",
      "0.10.1\n",
      "1.17.2\n",
      "0.25.1\n"
     ]
    }
   ],
   "source": [
    "from pprint import pformat as pf, pprint as pp\n",
    "import json\n",
    "import logging\n",
    "import os\n",
    "\n",
    "log = logging.getLogger(__name__)\n",
    "logging.basicConfig(level=logging.INFO)\n",
    "\n",
    "import requests\n",
    "import pandas as pd\n",
    "import numpy as np\n",
    "import statsmodels\n",
    "from statsmodels.tsa import stattools\n",
    "from statsmodels.tsa.statespace.sarimax import SARIMAX\n",
    "from statsmodels.tsa.arima_process import arma_generate_sample\n",
    "np.random.seed(3)\n",
    "\n",
    "\n",
    "import matplotlib.pyplot as plt\n",
    "import itermplot\n",
    "%matplotlib inline\n",
    "\n",
    "print(os.environ.get('MPLBACKEND', ''))\n",
    "print(statsmodels.__version__)\n",
    "print(np.__version__)\n",
    "print(pd.__version__)"
   ]
  },
  {
   "cell_type": "markdown",
   "metadata": {},
   "source": [
    "# Fetch Data"
   ]
  },
  {
   "cell_type": "code",
   "execution_count": 66,
   "metadata": {},
   "outputs": [],
   "source": [
    "url = 'http://192.168.0.156:8000/metrics?from=300'\n",
    "response = requests.get(url)\n",
    "status_code = response.status_code\n",
    "#status_code = 404"
   ]
  },
  {
   "cell_type": "code",
   "execution_count": 67,
   "metadata": {},
   "outputs": [
    {
     "name": "stdout",
     "output_type": "stream",
     "text": [
      "web\n"
     ]
    }
   ],
   "source": [
    "\n",
    "if status_code == 200:\n",
    "    print(\"web\")\n",
    "    data = json.loads(response.content.decode('utf-8'))\n",
    "else:\n",
    "    print(\"local\")\n",
    "    with open('sample.json', 'r') as f:\n",
    "        data = json.load(f)\n"
   ]
  },
  {
   "cell_type": "markdown",
   "metadata": {},
   "source": [
    "# Tidy Data"
   ]
  },
  {
   "cell_type": "code",
   "execution_count": 68,
   "metadata": {},
   "outputs": [
    {
     "data": {
      "text/html": [
       "<div>\n",
       "<style scoped>\n",
       "    .dataframe tbody tr th:only-of-type {\n",
       "        vertical-align: middle;\n",
       "    }\n",
       "\n",
       "    .dataframe tbody tr th {\n",
       "        vertical-align: top;\n",
       "    }\n",
       "\n",
       "    .dataframe thead th {\n",
       "        text-align: right;\n",
       "    }\n",
       "</style>\n",
       "<table border=\"1\" class=\"dataframe\">\n",
       "  <thead>\n",
       "    <tr style=\"text-align: right;\">\n",
       "      <th></th>\n",
       "      <th>metric</th>\n",
       "      <th>ts</th>\n",
       "      <th>value</th>\n",
       "    </tr>\n",
       "  </thead>\n",
       "  <tbody>\n",
       "    <tr>\n",
       "      <td>0</td>\n",
       "      <td>humidity</td>\n",
       "      <td>1.574849e+09</td>\n",
       "      <td>52.799999</td>\n",
       "    </tr>\n",
       "    <tr>\n",
       "      <td>1</td>\n",
       "      <td>temperature</td>\n",
       "      <td>1.574849e+09</td>\n",
       "      <td>23.512121</td>\n",
       "    </tr>\n",
       "    <tr>\n",
       "      <td>2</td>\n",
       "      <td>humidity</td>\n",
       "      <td>1.574849e+09</td>\n",
       "      <td>52.776470</td>\n",
       "    </tr>\n",
       "    <tr>\n",
       "      <td>3</td>\n",
       "      <td>temperature</td>\n",
       "      <td>1.574849e+09</td>\n",
       "      <td>23.560785</td>\n",
       "    </tr>\n",
       "    <tr>\n",
       "      <td>4</td>\n",
       "      <td>humidity</td>\n",
       "      <td>1.574848e+09</td>\n",
       "      <td>52.753061</td>\n",
       "    </tr>\n",
       "    <tr>\n",
       "      <td>...</td>\n",
       "      <td>...</td>\n",
       "      <td>...</td>\n",
       "      <td>...</td>\n",
       "    </tr>\n",
       "    <tr>\n",
       "      <td>36251</td>\n",
       "      <td>temperature</td>\n",
       "      <td>1.569138e+09</td>\n",
       "      <td>24.498077</td>\n",
       "    </tr>\n",
       "    <tr>\n",
       "      <td>36252</td>\n",
       "      <td>humidity</td>\n",
       "      <td>1.569138e+09</td>\n",
       "      <td>78.126413</td>\n",
       "    </tr>\n",
       "    <tr>\n",
       "      <td>36253</td>\n",
       "      <td>temperature</td>\n",
       "      <td>1.569138e+09</td>\n",
       "      <td>24.500000</td>\n",
       "    </tr>\n",
       "    <tr>\n",
       "      <td>36254</td>\n",
       "      <td>humidity</td>\n",
       "      <td>1.569137e+09</td>\n",
       "      <td>78.282355</td>\n",
       "    </tr>\n",
       "    <tr>\n",
       "      <td>36255</td>\n",
       "      <td>temperature</td>\n",
       "      <td>1.569137e+09</td>\n",
       "      <td>24.500000</td>\n",
       "    </tr>\n",
       "  </tbody>\n",
       "</table>\n",
       "<p>36256 rows × 3 columns</p>\n",
       "</div>"
      ],
      "text/plain": [
       "            metric            ts      value\n",
       "0         humidity  1.574849e+09  52.799999\n",
       "1      temperature  1.574849e+09  23.512121\n",
       "2         humidity  1.574849e+09  52.776470\n",
       "3      temperature  1.574849e+09  23.560785\n",
       "4         humidity  1.574848e+09  52.753061\n",
       "...            ...           ...        ...\n",
       "36251  temperature  1.569138e+09  24.498077\n",
       "36252     humidity  1.569138e+09  78.126413\n",
       "36253  temperature  1.569138e+09  24.500000\n",
       "36254     humidity  1.569137e+09  78.282355\n",
       "36255  temperature  1.569137e+09  24.500000\n",
       "\n",
       "[36256 rows x 3 columns]"
      ]
     },
     "execution_count": 68,
     "metadata": {},
     "output_type": "execute_result"
    }
   ],
   "source": [
    "df = pd.DataFrame(data)\n",
    "df"
   ]
  },
  {
   "cell_type": "code",
   "execution_count": 69,
   "metadata": {},
   "outputs": [
    {
     "data": {
      "text/html": [
       "<div>\n",
       "<style scoped>\n",
       "    .dataframe tbody tr th:only-of-type {\n",
       "        vertical-align: middle;\n",
       "    }\n",
       "\n",
       "    .dataframe tbody tr th {\n",
       "        vertical-align: top;\n",
       "    }\n",
       "\n",
       "    .dataframe thead th {\n",
       "        text-align: right;\n",
       "    }\n",
       "</style>\n",
       "<table border=\"1\" class=\"dataframe\">\n",
       "  <thead>\n",
       "    <tr style=\"text-align: right;\">\n",
       "      <th></th>\n",
       "      <th>metric</th>\n",
       "      <th>ts</th>\n",
       "      <th>value</th>\n",
       "    </tr>\n",
       "  </thead>\n",
       "  <tbody>\n",
       "    <tr>\n",
       "      <td>0</td>\n",
       "      <td>humidity</td>\n",
       "      <td>2019-11-27 09:59:13.341517210</td>\n",
       "      <td>52.799999</td>\n",
       "    </tr>\n",
       "    <tr>\n",
       "      <td>1</td>\n",
       "      <td>temperature</td>\n",
       "      <td>2019-11-27 09:59:13.341517210</td>\n",
       "      <td>23.512121</td>\n",
       "    </tr>\n",
       "    <tr>\n",
       "      <td>2</td>\n",
       "      <td>humidity</td>\n",
       "      <td>2019-11-27 09:55:03.209787607</td>\n",
       "      <td>52.776470</td>\n",
       "    </tr>\n",
       "    <tr>\n",
       "      <td>3</td>\n",
       "      <td>temperature</td>\n",
       "      <td>2019-11-27 09:55:03.209787607</td>\n",
       "      <td>23.560785</td>\n",
       "    </tr>\n",
       "    <tr>\n",
       "      <td>4</td>\n",
       "      <td>humidity</td>\n",
       "      <td>2019-11-27 09:50:05.322507858</td>\n",
       "      <td>52.753061</td>\n",
       "    </tr>\n",
       "    <tr>\n",
       "      <td>...</td>\n",
       "      <td>...</td>\n",
       "      <td>...</td>\n",
       "      <td>...</td>\n",
       "    </tr>\n",
       "    <tr>\n",
       "      <td>36251</td>\n",
       "      <td>temperature</td>\n",
       "      <td>2019-09-22 07:40:04.500892878</td>\n",
       "      <td>24.498077</td>\n",
       "    </tr>\n",
       "    <tr>\n",
       "      <td>36252</td>\n",
       "      <td>humidity</td>\n",
       "      <td>2019-09-22 07:35:00.818114996</td>\n",
       "      <td>78.126413</td>\n",
       "    </tr>\n",
       "    <tr>\n",
       "      <td>36253</td>\n",
       "      <td>temperature</td>\n",
       "      <td>2019-09-22 07:35:00.818114996</td>\n",
       "      <td>24.500000</td>\n",
       "    </tr>\n",
       "    <tr>\n",
       "      <td>36254</td>\n",
       "      <td>humidity</td>\n",
       "      <td>2019-09-22 07:30:08.879276752</td>\n",
       "      <td>78.282355</td>\n",
       "    </tr>\n",
       "    <tr>\n",
       "      <td>36255</td>\n",
       "      <td>temperature</td>\n",
       "      <td>2019-09-22 07:30:08.879276752</td>\n",
       "      <td>24.500000</td>\n",
       "    </tr>\n",
       "  </tbody>\n",
       "</table>\n",
       "<p>36256 rows × 3 columns</p>\n",
       "</div>"
      ],
      "text/plain": [
       "            metric                            ts      value\n",
       "0         humidity 2019-11-27 09:59:13.341517210  52.799999\n",
       "1      temperature 2019-11-27 09:59:13.341517210  23.512121\n",
       "2         humidity 2019-11-27 09:55:03.209787607  52.776470\n",
       "3      temperature 2019-11-27 09:55:03.209787607  23.560785\n",
       "4         humidity 2019-11-27 09:50:05.322507858  52.753061\n",
       "...            ...                           ...        ...\n",
       "36251  temperature 2019-09-22 07:40:04.500892878  24.498077\n",
       "36252     humidity 2019-09-22 07:35:00.818114996  78.126413\n",
       "36253  temperature 2019-09-22 07:35:00.818114996  24.500000\n",
       "36254     humidity 2019-09-22 07:30:08.879276752  78.282355\n",
       "36255  temperature 2019-09-22 07:30:08.879276752  24.500000\n",
       "\n",
       "[36256 rows x 3 columns]"
      ]
     },
     "execution_count": 69,
     "metadata": {},
     "output_type": "execute_result"
    }
   ],
   "source": [
    "df['ts'] = pd.to_datetime(df['ts'], unit='s')\n",
    "df"
   ]
  },
  {
   "cell_type": "code",
   "execution_count": 70,
   "metadata": {},
   "outputs": [
    {
     "data": {
      "text/html": [
       "<div>\n",
       "<style scoped>\n",
       "    .dataframe tbody tr th:only-of-type {\n",
       "        vertical-align: middle;\n",
       "    }\n",
       "\n",
       "    .dataframe tbody tr th {\n",
       "        vertical-align: top;\n",
       "    }\n",
       "\n",
       "    .dataframe thead th {\n",
       "        text-align: right;\n",
       "    }\n",
       "</style>\n",
       "<table border=\"1\" class=\"dataframe\">\n",
       "  <thead>\n",
       "    <tr style=\"text-align: right;\">\n",
       "      <th></th>\n",
       "      <th>metric</th>\n",
       "      <th>value</th>\n",
       "    </tr>\n",
       "    <tr>\n",
       "      <th>ts</th>\n",
       "      <th></th>\n",
       "      <th></th>\n",
       "    </tr>\n",
       "  </thead>\n",
       "  <tbody>\n",
       "    <tr>\n",
       "      <td>2019-11-27 09:59:13.341517210</td>\n",
       "      <td>humidity</td>\n",
       "      <td>52.799999</td>\n",
       "    </tr>\n",
       "    <tr>\n",
       "      <td>2019-11-27 09:59:13.341517210</td>\n",
       "      <td>temperature</td>\n",
       "      <td>23.512121</td>\n",
       "    </tr>\n",
       "    <tr>\n",
       "      <td>2019-11-27 09:55:03.209787607</td>\n",
       "      <td>humidity</td>\n",
       "      <td>52.776470</td>\n",
       "    </tr>\n",
       "    <tr>\n",
       "      <td>2019-11-27 09:55:03.209787607</td>\n",
       "      <td>temperature</td>\n",
       "      <td>23.560785</td>\n",
       "    </tr>\n",
       "    <tr>\n",
       "      <td>2019-11-27 09:50:05.322507858</td>\n",
       "      <td>humidity</td>\n",
       "      <td>52.753061</td>\n",
       "    </tr>\n",
       "    <tr>\n",
       "      <td>...</td>\n",
       "      <td>...</td>\n",
       "      <td>...</td>\n",
       "    </tr>\n",
       "    <tr>\n",
       "      <td>2019-09-22 07:40:04.500892878</td>\n",
       "      <td>temperature</td>\n",
       "      <td>24.498077</td>\n",
       "    </tr>\n",
       "    <tr>\n",
       "      <td>2019-09-22 07:35:00.818114996</td>\n",
       "      <td>humidity</td>\n",
       "      <td>78.126413</td>\n",
       "    </tr>\n",
       "    <tr>\n",
       "      <td>2019-09-22 07:35:00.818114996</td>\n",
       "      <td>temperature</td>\n",
       "      <td>24.500000</td>\n",
       "    </tr>\n",
       "    <tr>\n",
       "      <td>2019-09-22 07:30:08.879276752</td>\n",
       "      <td>humidity</td>\n",
       "      <td>78.282355</td>\n",
       "    </tr>\n",
       "    <tr>\n",
       "      <td>2019-09-22 07:30:08.879276752</td>\n",
       "      <td>temperature</td>\n",
       "      <td>24.500000</td>\n",
       "    </tr>\n",
       "  </tbody>\n",
       "</table>\n",
       "<p>36256 rows × 2 columns</p>\n",
       "</div>"
      ],
      "text/plain": [
       "                                    metric      value\n",
       "ts                                                   \n",
       "2019-11-27 09:59:13.341517210     humidity  52.799999\n",
       "2019-11-27 09:59:13.341517210  temperature  23.512121\n",
       "2019-11-27 09:55:03.209787607     humidity  52.776470\n",
       "2019-11-27 09:55:03.209787607  temperature  23.560785\n",
       "2019-11-27 09:50:05.322507858     humidity  52.753061\n",
       "...                                    ...        ...\n",
       "2019-09-22 07:40:04.500892878  temperature  24.498077\n",
       "2019-09-22 07:35:00.818114996     humidity  78.126413\n",
       "2019-09-22 07:35:00.818114996  temperature  24.500000\n",
       "2019-09-22 07:30:08.879276752     humidity  78.282355\n",
       "2019-09-22 07:30:08.879276752  temperature  24.500000\n",
       "\n",
       "[36256 rows x 2 columns]"
      ]
     },
     "execution_count": 70,
     "metadata": {},
     "output_type": "execute_result"
    }
   ],
   "source": [
    "df = df.set_index('ts')\n",
    "df"
   ]
  },
  {
   "cell_type": "code",
   "execution_count": 71,
   "metadata": {},
   "outputs": [
    {
     "data": {
      "text/plain": [
       "DatetimeIndex(['2019-09-22 07:00:00', '2019-09-22 08:00:00',\n",
       "               '2019-09-22 09:00:00', '2019-09-22 10:00:00',\n",
       "               '2019-09-22 11:00:00', '2019-09-22 12:00:00',\n",
       "               '2019-09-22 13:00:00', '2019-09-22 14:00:00',\n",
       "               '2019-09-22 15:00:00', '2019-09-22 16:00:00',\n",
       "               ...\n",
       "               '2019-11-27 00:00:00', '2019-11-27 01:00:00',\n",
       "               '2019-11-27 02:00:00', '2019-11-27 03:00:00',\n",
       "               '2019-11-27 04:00:00', '2019-11-27 05:00:00',\n",
       "               '2019-11-27 06:00:00', '2019-11-27 07:00:00',\n",
       "               '2019-11-27 08:00:00', '2019-11-27 09:00:00'],\n",
       "              dtype='datetime64[ns]', name='ts', length=1587, freq='H')"
      ]
     },
     "execution_count": 71,
     "metadata": {},
     "output_type": "execute_result"
    }
   ],
   "source": [
    "df = df.dropna()\n",
    "df_temp = df[df['metric'] == 'temperature'][['value']].resample('H').mean()\n",
    "df_temp.index"
   ]
  },
  {
   "cell_type": "code",
   "execution_count": 72,
   "metadata": {},
   "outputs": [
    {
     "data": {
      "text/plain": [
       "<matplotlib.axes._subplots.AxesSubplot at 0x131e7c1d0>"
      ]
     },
     "execution_count": 72,
     "metadata": {},
     "output_type": "execute_result"
    },
    {
     "data": {
      "image/png": "[encoded data removed]",
      "text/plain": [
       "<Figure size 432x288 with 1 Axes>"
      ]
     },
     "metadata": {
      "needs_background": "light"
     },
     "output_type": "display_data"
    }
   ],
   "source": [
    "df_temp.plot()"
   ]
  },
  {
   "cell_type": "markdown",
   "metadata": {},
   "source": [
    "# Differencing"
   ]
  },
  {
   "cell_type": "code",
   "execution_count": 73,
   "metadata": {},
   "outputs": [],
   "source": [
    "df_diff = df_temp.diff().dropna()"
   ]
  },
  {
   "cell_type": "code",
   "execution_count": 74,
   "metadata": {},
   "outputs": [
    {
     "data": {
      "text/plain": [
       "<matplotlib.axes._subplots.AxesSubplot at 0x132170150>"
      ]
     },
     "execution_count": 74,
     "metadata": {},
     "output_type": "execute_result"
    },
    {
     "data": {
      "image/png": "[encoded data removed]",
      "text/plain": [
       "<Figure size 432x288 with 1 Axes>"
      ]
     },
     "metadata": {
      "needs_background": "light"
     },
     "output_type": "display_data"
    }
   ],
   "source": [
    "df_diff.plot()"
   ]
  },
  {
   "cell_type": "markdown",
   "metadata": {},
   "source": [
    "# Stationarity Tests\n",
    "## Augmented Dickey-Fuller Test\n",
    "\n",
    "https://www.statsmodels.org/stable/generated/statsmodels.tsa.stattools.adfuller.html#statsmodels.tsa.stattools.adfuller\n",
    "\n",
    "> Null Hypothesis (H0): Time Series is NOT stationary. \n",
    "\n",
    "**adf**: `float`\n",
    "\n",
    "Test statistic\n",
    "\n",
    "**pvalue**: `float`\n",
    "\n",
    "MacKinnon’s approximate p-value based on MacKinnon (1994, 2010)\n",
    "\n",
    "**usedlag**: `int`\n",
    "\n",
    "Number of lags used\n",
    "\n",
    "**nobs**: `int`\n",
    "\n",
    "Number of observations used for the ADF regression and calculation of the critical values\n",
    "\n",
    "**critical values**: `dict`\n",
    "\n",
    "Critical values for the test statistic at the 1 %, 5 %, and 10 % levels. Based on MacKinnon (2010)\n",
    "\n",
    "**icbest**: `float`\n",
    "The maximized information criterion if autolag is not None."
   ]
  },
  {
   "cell_type": "code",
   "execution_count": 75,
   "metadata": {},
   "outputs": [
    {
     "name": "stdout",
     "output_type": "stream",
     "text": [
      "TEMPERATURE\n",
      "p-value: 0.0001997505070132987\n",
      "Reject H0. Reject non-stationary. It could be stationary.\n"
     ]
    }
   ],
   "source": [
    "print(\"TEMPERATURE\")\n",
    "results = stattools.adfuller(df_temp['value'].dropna())\n",
    "\n",
    "adf, pvalue, usedlag, no_obs, critical_values, ic_best = results\n",
    "\n",
    "print(f\"p-value: {pvalue}\")\n",
    "if pvalue < 0.05:\n",
    "    print(\"Reject H0. Reject non-stationary. It could be stationary.\")\n",
    "else:\n",
    "    print(\"Could not reject H0. It is not likely stationary.\")"
   ]
  },
  {
   "cell_type": "code",
   "execution_count": 76,
   "metadata": {},
   "outputs": [
    {
     "name": "stdout",
     "output_type": "stream",
     "text": [
      "DIFFERENCED\n",
      "p-value: 2.9920068964733717e-12\n",
      "Reject H0. Reject non-stationary. It could be stationary.\n"
     ]
    }
   ],
   "source": [
    "print(\"DIFFERENCED\")\n",
    "results = stattools.adfuller(df_diff['value'].dropna())\n",
    "\n",
    "adf, pvalue, usedlag, no_obs, critical_values, ic_best = results\n",
    "\n",
    "print(f\"p-value: {pvalue}\")\n",
    "if pvalue < 0.05:\n",
    "    print(\"Reject H0. Reject non-stationary. It could be stationary.\")\n",
    "else:\n",
    "    print(\"Could not reject H0. It is not likely stationary.\")"
   ]
  },
  {
   "cell_type": "markdown",
   "metadata": {},
   "source": [
    "## KPSS Test\n",
    "\n",
    "https://www.statsmodels.org/stable/generated/statsmodels.tsa.stattools.kpss.html#statsmodels.tsa.stattools.kpss\n",
    "\n",
    "> Null Hypothesis (H0): Computes the Kwiatkowski-Phillips-Schmidt-Shin (KPSS) test for the null hypothesis that x is level or trend stationary.\n",
    "\n",
    "**kpss_stat**: `float`\n",
    "\n",
    "The KPSS test statistic\n",
    "\n",
    "**p_value**: `float`\n",
    "\n",
    "The p-value of the test. The p-value is interpolated from Table 1 in Kwiatkowski et al. (1992), and a boundary point is returned if the test statistic is outside the table of critical values, that is, if the p-value is outside the interval (0.01, 0.1).\n",
    "\n",
    "**lags**: `int`\n",
    "\n",
    "The truncation lag parameter\n",
    "\n",
    "**crit**: `dict`\n",
    "\n",
    "The critical values at 10%, 5%, 2.5% and 1%. Based on Kwiatkowski et al. (1992).\n"
   ]
  },
  {
   "cell_type": "code",
   "execution_count": 77,
   "metadata": {},
   "outputs": [
    {
     "name": "stdout",
     "output_type": "stream",
     "text": [
      "TEMPERATURE\n",
      "p-value: 0.031052508942528728\n",
      "Reject H0. Reject stationary. It could be non-stationary.\n"
     ]
    }
   ],
   "source": [
    "print(\"TEMPERATURE\")\n",
    "results = stattools.kpss(df_temp['value'].dropna(), regression='ct', lags='auto')\n",
    "\n",
    "kpss_stat, pvalue, lags, critical_values = results\n",
    "\n",
    "print(f\"p-value: {pvalue}\")\n",
    "if pvalue < 0.05:\n",
    "    print(\"Reject H0. Reject stationary. It could be non-stationary.\")\n",
    "else:\n",
    "    print(\"Could not reject H0. It is likely stationary.\")"
   ]
  },
  {
   "cell_type": "code",
   "execution_count": 78,
   "metadata": {},
   "outputs": [
    {
     "name": "stdout",
     "output_type": "stream",
     "text": [
      "DIFFERENCED\n",
      "p-value: 0.1\n",
      "Could not reject H0. It is likely stationary.\n"
     ]
    },
    {
     "name": "stderr",
     "output_type": "stream",
     "text": [
      "/Users/jpeak/projects/temperature-timeseries/v/lib/python3.7/site-packages/statsmodels/tsa/stattools.py:1710: InterpolationWarning: p-value is greater than the indicated p-value\n",
      "  warn(\"p-value is greater than the indicated p-value\", InterpolationWarning)\n"
     ]
    }
   ],
   "source": [
    "print(\"DIFFERENCED\")\n",
    "results = stattools.kpss(df_diff['value'].dropna(), regression='ct', lags='auto')\n",
    "\n",
    "kpss_stat, pvalue, lags, critical_values = results\n",
    "\n",
    "print(f\"p-value: {pvalue}\")\n",
    "if pvalue < 0.05:\n",
    "    print(\"Reject H0. Reject stationary. It could be non-stationary.\")\n",
    "else:\n",
    "    print(\"Could not reject H0. It is likely stationary.\")"
   ]
  },
  {
   "cell_type": "markdown",
   "metadata": {},
   "source": [
    "# Auto Correlation Plots"
   ]
  },
  {
   "cell_type": "code",
   "execution_count": 79,
   "metadata": {},
   "outputs": [],
   "source": [
    "df_acf = pd.DataFrame(stattools.acf(df_temp.dropna(), fft=True))"
   ]
  },
  {
   "cell_type": "code",
   "execution_count": 80,
   "metadata": {},
   "outputs": [
    {
     "data": {
      "text/plain": [
       "<matplotlib.axes._subplots.AxesSubplot at 0x1342b6a10>"
      ]
     },
     "execution_count": 80,
     "metadata": {},
     "output_type": "execute_result"
    },
    {
     "data": {
      "image/png": "[encoded data removed]",
      "text/plain": [
       "<Figure size 432x288 with 1 Axes>"
      ]
     },
     "metadata": {
      "needs_background": "light"
     },
     "output_type": "display_data"
    }
   ],
   "source": [
    "df_acf.plot()"
   ]
  },
  {
   "cell_type": "code",
   "execution_count": 81,
   "metadata": {},
   "outputs": [],
   "source": [
    "df_pacf = pd.DataFrame(stattools.pacf(df_temp.dropna(), method='ols-inefficient'))"
   ]
  },
  {
   "cell_type": "code",
   "execution_count": 82,
   "metadata": {},
   "outputs": [
    {
     "data": {
      "text/plain": [
       "<matplotlib.axes._subplots.AxesSubplot at 0x1342a0ad0>"
      ]
     },
     "execution_count": 82,
     "metadata": {},
     "output_type": "execute_result"
    },
    {
     "data": {
      "image/png": "[encoded data removed]",
      "text/plain": [
       "<Figure size 432x288 with 1 Axes>"
      ]
     },
     "metadata": {
      "needs_background": "light"
     },
     "output_type": "display_data"
    }
   ],
   "source": [
    "df_pacf.plot()"
   ]
  },
  {
   "cell_type": "code",
   "execution_count": 83,
   "metadata": {},
   "outputs": [
    {
     "data": {
      "text/html": [
       "<div>\n",
       "<style scoped>\n",
       "    .dataframe tbody tr th:only-of-type {\n",
       "        vertical-align: middle;\n",
       "    }\n",
       "\n",
       "    .dataframe tbody tr th {\n",
       "        vertical-align: top;\n",
       "    }\n",
       "\n",
       "    .dataframe thead th {\n",
       "        text-align: right;\n",
       "    }\n",
       "</style>\n",
       "<table border=\"1\" class=\"dataframe\">\n",
       "  <thead>\n",
       "    <tr style=\"text-align: right;\">\n",
       "      <th></th>\n",
       "      <th>0</th>\n",
       "    </tr>\n",
       "  </thead>\n",
       "  <tbody>\n",
       "    <tr>\n",
       "      <td>0</td>\n",
       "      <td>1.000000</td>\n",
       "    </tr>\n",
       "    <tr>\n",
       "      <td>1</td>\n",
       "      <td>0.971511</td>\n",
       "    </tr>\n",
       "    <tr>\n",
       "      <td>2</td>\n",
       "      <td>-0.839758</td>\n",
       "    </tr>\n",
       "    <tr>\n",
       "      <td>3</td>\n",
       "      <td>0.173531</td>\n",
       "    </tr>\n",
       "    <tr>\n",
       "      <td>4</td>\n",
       "      <td>-0.003429</td>\n",
       "    </tr>\n",
       "    <tr>\n",
       "      <td>5</td>\n",
       "      <td>-0.017386</td>\n",
       "    </tr>\n",
       "  </tbody>\n",
       "</table>\n",
       "</div>"
      ],
      "text/plain": [
       "          0\n",
       "0  1.000000\n",
       "1  0.971511\n",
       "2 -0.839758\n",
       "3  0.173531\n",
       "4 -0.003429\n",
       "5 -0.017386"
      ]
     },
     "execution_count": 83,
     "metadata": {},
     "output_type": "execute_result"
    }
   ],
   "source": [
    "df_pacf[:6]"
   ]
  },
  {
   "cell_type": "code",
   "execution_count": 84,
   "metadata": {},
   "outputs": [
    {
     "data": {
      "text/plain": [
       "<matplotlib.axes._subplots.AxesSubplot at 0x13599a150>"
      ]
     },
     "execution_count": 84,
     "metadata": {},
     "output_type": "execute_result"
    },
    {
     "data": {
      "image/png": "[encoded data removed]",
      "text/plain": [
       "<Figure size 432x288 with 1 Axes>"
      ]
     },
     "metadata": {
      "needs_background": "light"
     },
     "output_type": "display_data"
    }
   ],
   "source": [
    "df_diff_acf = pd.DataFrame(stattools.acf(df_diff.dropna()))\n",
    "df_diff_acf.plot()"
   ]
  },
  {
   "cell_type": "code",
   "execution_count": 85,
   "metadata": {},
   "outputs": [
    {
     "data": {
      "text/plain": [
       "<matplotlib.axes._subplots.AxesSubplot at 0x135a86f10>"
      ]
     },
     "execution_count": 85,
     "metadata": {},
     "output_type": "execute_result"
    },
    {
     "data": {
      "image/png": "[encoded data removed]",
      "text/plain": [
       "<Figure size 432x288 with 1 Axes>"
      ]
     },
     "metadata": {
      "needs_background": "light"
     },
     "output_type": "display_data"
    }
   ],
   "source": [
    "df_diff_pacf = pd.DataFrame(stattools.pacf(df_diff.dropna(), method='ols-inefficient'))\n",
    "df_diff_pacf.plot()"
   ]
  },
  {
   "cell_type": "markdown",
   "metadata": {},
   "source": [
    "## ACF\n",
    "\n",
    "The Auto Correlation Function, has strong correlation at lags 12, 24, 36 but overall decays slowly.\n",
    "\n",
    "## PACF\n",
    "\n",
    "The Partial Auto Correlation function drops off rapidly after 2 lags which suggests a strong Auto Regressive relationship. \n",
    "\n",
    "Lets look at fitting an ARIMA model next."
   ]
  },
  {
   "cell_type": "markdown",
   "metadata": {},
   "source": [
    "# ARIMA"
   ]
  },
  {
   "cell_type": "code",
   "execution_count": 86,
   "metadata": {},
   "outputs": [],
   "source": [
    "df_temp.to_csv(\"data.csv\")"
   ]
  },
  {
   "cell_type": "code",
   "execution_count": 87,
   "metadata": {},
   "outputs": [
    {
     "data": {
      "text/plain": [
       "DatetimeIndex(['2019-09-22 07:00:00', '2019-09-22 08:00:00',\n",
       "               '2019-09-22 09:00:00', '2019-09-22 10:00:00',\n",
       "               '2019-09-22 11:00:00', '2019-09-22 12:00:00',\n",
       "               '2019-09-22 13:00:00', '2019-09-22 14:00:00',\n",
       "               '2019-09-22 15:00:00', '2019-09-22 16:00:00',\n",
       "               ...\n",
       "               '2019-11-27 00:00:00', '2019-11-27 01:00:00',\n",
       "               '2019-11-27 02:00:00', '2019-11-27 03:00:00',\n",
       "               '2019-11-27 04:00:00', '2019-11-27 05:00:00',\n",
       "               '2019-11-27 06:00:00', '2019-11-27 07:00:00',\n",
       "               '2019-11-27 08:00:00', '2019-11-27 09:00:00'],\n",
       "              dtype='datetime64[ns]', name='ts', length=1587, freq='H')"
      ]
     },
     "execution_count": 87,
     "metadata": {},
     "output_type": "execute_result"
    }
   ],
   "source": [
    "df_temp.index"
   ]
  },
  {
   "cell_type": "code",
   "execution_count": 139,
   "metadata": {},
   "outputs": [
    {
     "name": "stderr",
     "output_type": "stream",
     "text": [
      "/Users/jpeak/projects/temperature-timeseries/v/lib/python3.7/site-packages/statsmodels/tsa/base/tsa_model.py:219: ValueWarning: A date index has been provided, but it has no associated frequency information and so will be ignored when e.g. forecasting.\n",
      "  ' ignored when e.g. forecasting.', ValueWarning)\n"
     ]
    }
   ],
   "source": [
    "model = SARIMAX(df_temp['value'].dropna(), order=(6,1,1))\n",
    "results = model.fit()"
   ]
  },
  {
   "cell_type": "code",
   "execution_count": 140,
   "metadata": {},
   "outputs": [
    {
     "data": {
      "text/html": [
       "<table class=\"simpletable\">\n",
       "<caption>Statespace Model Results</caption>\n",
       "<tr>\n",
       "  <th>Dep. Variable:</th>         <td>value</td>      <th>  No. Observations:  </th>   <td>1516</td>  \n",
       "</tr>\n",
       "<tr>\n",
       "  <th>Model:</th>           <td>SARIMAX(6, 1, 1)</td> <th>  Log Likelihood     </th> <td>-456.499</td>\n",
       "</tr>\n",
       "<tr>\n",
       "  <th>Date:</th>            <td>Wed, 27 Nov 2019</td> <th>  AIC                </th>  <td>928.997</td>\n",
       "</tr>\n",
       "<tr>\n",
       "  <th>Time:</th>                <td>21:28:58</td>     <th>  BIC                </th>  <td>971.583</td>\n",
       "</tr>\n",
       "<tr>\n",
       "  <th>Sample:</th>                  <td>0</td>        <th>  HQIC               </th>  <td>944.854</td>\n",
       "</tr>\n",
       "<tr>\n",
       "  <th></th>                      <td> - 1516</td>     <th>                     </th>     <td> </td>   \n",
       "</tr>\n",
       "<tr>\n",
       "  <th>Covariance Type:</th>        <td>opg</td>       <th>                     </th>     <td> </td>   \n",
       "</tr>\n",
       "</table>\n",
       "<table class=\"simpletable\">\n",
       "<tr>\n",
       "     <td></td>       <th>coef</th>     <th>std err</th>      <th>z</th>      <th>P>|z|</th>  <th>[0.025</th>    <th>0.975]</th>  \n",
       "</tr>\n",
       "<tr>\n",
       "  <th>ar.L1</th>  <td>    1.8256</td> <td>    0.020</td> <td>   92.263</td> <td> 0.000</td> <td>    1.787</td> <td>    1.864</td>\n",
       "</tr>\n",
       "<tr>\n",
       "  <th>ar.L2</th>  <td>   -1.0506</td> <td>    0.026</td> <td>  -40.515</td> <td> 0.000</td> <td>   -1.101</td> <td>   -1.000</td>\n",
       "</tr>\n",
       "<tr>\n",
       "  <th>ar.L3</th>  <td>    0.1473</td> <td>    0.031</td> <td>    4.823</td> <td> 0.000</td> <td>    0.087</td> <td>    0.207</td>\n",
       "</tr>\n",
       "<tr>\n",
       "  <th>ar.L4</th>  <td>   -0.0526</td> <td>    0.042</td> <td>   -1.266</td> <td> 0.206</td> <td>   -0.134</td> <td>    0.029</td>\n",
       "</tr>\n",
       "<tr>\n",
       "  <th>ar.L5</th>  <td>    0.1775</td> <td>    0.041</td> <td>    4.353</td> <td> 0.000</td> <td>    0.098</td> <td>    0.257</td>\n",
       "</tr>\n",
       "<tr>\n",
       "  <th>ar.L6</th>  <td>   -0.1521</td> <td>    0.023</td> <td>   -6.622</td> <td> 0.000</td> <td>   -0.197</td> <td>   -0.107</td>\n",
       "</tr>\n",
       "<tr>\n",
       "  <th>ma.L1</th>  <td>   -0.9183</td> <td>    0.014</td> <td>  -65.151</td> <td> 0.000</td> <td>   -0.946</td> <td>   -0.891</td>\n",
       "</tr>\n",
       "<tr>\n",
       "  <th>sigma2</th> <td>    0.1068</td> <td>    0.001</td> <td>   86.362</td> <td> 0.000</td> <td>    0.104</td> <td>    0.109</td>\n",
       "</tr>\n",
       "</table>\n",
       "<table class=\"simpletable\">\n",
       "<tr>\n",
       "  <th>Ljung-Box (Q):</th>          <td>234.42</td> <th>  Jarque-Bera (JB):  </th> <td>199257.18</td>\n",
       "</tr>\n",
       "<tr>\n",
       "  <th>Prob(Q):</th>                 <td>0.00</td>  <th>  Prob(JB):          </th>   <td>0.00</td>   \n",
       "</tr>\n",
       "<tr>\n",
       "  <th>Heteroskedasticity (H):</th>  <td>0.91</td>  <th>  Skew:              </th>   <td>-0.28</td>  \n",
       "</tr>\n",
       "<tr>\n",
       "  <th>Prob(H) (two-sided):</th>     <td>0.27</td>  <th>  Kurtosis:          </th>   <td>59.18</td>  \n",
       "</tr>\n",
       "</table><br/><br/>Warnings:<br/>[1] Covariance matrix calculated using the outer product of gradients (complex-step)."
      ],
      "text/plain": [
       "<class 'statsmodels.iolib.summary.Summary'>\n",
       "\"\"\"\n",
       "                           Statespace Model Results                           \n",
       "==============================================================================\n",
       "Dep. Variable:                  value   No. Observations:                 1516\n",
       "Model:               SARIMAX(6, 1, 1)   Log Likelihood                -456.499\n",
       "Date:                Wed, 27 Nov 2019   AIC                            928.997\n",
       "Time:                        21:28:58   BIC                            971.583\n",
       "Sample:                             0   HQIC                           944.854\n",
       "                               - 1516                                         \n",
       "Covariance Type:                  opg                                         \n",
       "==============================================================================\n",
       "                 coef    std err          z      P>|z|      [0.025      0.975]\n",
       "------------------------------------------------------------------------------\n",
       "ar.L1          1.8256      0.020     92.263      0.000       1.787       1.864\n",
       "ar.L2         -1.0506      0.026    -40.515      0.000      -1.101      -1.000\n",
       "ar.L3          0.1473      0.031      4.823      0.000       0.087       0.207\n",
       "ar.L4         -0.0526      0.042     -1.266      0.206      -0.134       0.029\n",
       "ar.L5          0.1775      0.041      4.353      0.000       0.098       0.257\n",
       "ar.L6         -0.1521      0.023     -6.622      0.000      -0.197      -0.107\n",
       "ma.L1         -0.9183      0.014    -65.151      0.000      -0.946      -0.891\n",
       "sigma2         0.1068      0.001     86.362      0.000       0.104       0.109\n",
       "===================================================================================\n",
       "Ljung-Box (Q):                      234.42   Jarque-Bera (JB):            199257.18\n",
       "Prob(Q):                              0.00   Prob(JB):                         0.00\n",
       "Heteroskedasticity (H):               0.91   Skew:                            -0.28\n",
       "Prob(H) (two-sided):                  0.27   Kurtosis:                        59.18\n",
       "===================================================================================\n",
       "\n",
       "Warnings:\n",
       "[1] Covariance matrix calculated using the outer product of gradients (complex-step).\n",
       "\"\"\""
      ]
     },
     "execution_count": 140,
     "metadata": {},
     "output_type": "execute_result"
    }
   ],
   "source": [
    "results.summary()"
   ]
  },
  {
   "cell_type": "code",
   "execution_count": 144,
   "metadata": {},
   "outputs": [
    {
     "name": "stderr",
     "output_type": "stream",
     "text": [
      "/Users/jpeak/projects/temperature-timeseries/v/lib/python3.7/site-packages/statsmodels/tsa/base/tsa_model.py:576: ValueWarning: No supported index is available. Prediction results will be given with an integer index beginning at `start`.\n",
      "  ValueWarning)\n"
     ]
    },
    {
     "data": {
      "text/plain": [
       "<matplotlib.collections.PolyCollection at 0x12c3e4190>"
      ]
     },
     "execution_count": 144,
     "metadata": {},
     "output_type": "execute_result"
    },
    {
     "data": {
      "image/png": "[encoded data removed]",
      "text/plain": [
       "<Figure size 432x288 with 1 Axes>"
      ]
     },
     "metadata": {
      "needs_background": "light"
     },
     "output_type": "display_data"
    }
   ],
   "source": [
    "#forecast = results.get_prediction(start=-25, dynamic=True)\n",
    "forecast = results.get_forecast(steps=20)\n",
    "mean_forecast = forecast.predicted_mean\n",
    "confidence_intervals = forecast.conf_int()\n",
    "\n",
    "plt.figure()\n",
    "\n",
    "plt.plot(\n",
    "    mean_forecast.index, \n",
    "    mean_forecast.values, \n",
    "    color='red', \n",
    "    label='forecast'\n",
    ")\n",
    "plt.fill_between(\n",
    "    confidence_intervals.index, \n",
    "    confidence_intervals['lower value'], \n",
    "    confidence_intervals['upper value'], \n",
    "    color='pink'\n",
    ")"
   ]
  },
  {
   "cell_type": "code",
   "execution_count": null,
   "metadata": {},
   "outputs": [],
   "source": []
  },
  {
   "cell_type": "code",
   "execution_count": null,
   "metadata": {},
   "outputs": [],
   "source": []
  }
 ],
 "metadata": {
  "kernelspec": {
   "display_name": "Python 3",
   "language": "python",
   "name": "python3"
  },
  "language_info": {
   "codemirror_mode": {
    "name": "ipython",
    "version": 3
   },
   "file_extension": ".py",
   "mimetype": "text/x-python",
   "name": "python",
   "nbconvert_exporter": "python",
   "pygments_lexer": "ipython3",
   "version": "3.7.4"
  }
 },
 "nbformat": 4,
 "nbformat_minor": 4
}
