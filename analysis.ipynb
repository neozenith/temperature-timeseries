{
 "cells": [
  {
   "cell_type": "markdown",
   "metadata": {},
   "source": [
    "# Analysis of Temperature Data\n",
    "A simple Raspberry Pi and DHT22 Temperature and Humidity sensor\n",
    "\n",
    "## Import Required libraries"
   ]
  },
  {
   "cell_type": "code",
   "execution_count": 3,
   "metadata": {},
   "outputs": [
    {
     "name": "stdout",
     "output_type": "stream",
     "text": [
      "module://itermplot\n",
      "0.10.1\n",
      "1.17.2\n",
      "0.25.1\n"
     ]
    }
   ],
   "source": [
    "from pprint import pformat as pf, pprint as pp\n",
    "import json\n",
    "import logging\n",
    "import os\n",
    "\n",
    "log = logging.getLogger(__name__)\n",
    "logging.basicConfig(level=logging.INFO)\n",
    "\n",
    "import requests\n",
    "import pandas as pd\n",
    "import numpy as np\n",
    "import statsmodels\n",
    "from statsmodels.tsa.arima_model import ARIMA\n",
    "\n",
    "from statsmodels.tsa import stattools\n",
    "import matplotlib.pyplot as plt\n",
    "import itermplot\n",
    "%matplotlib inline\n",
    "\n",
    "print(os.environ.get('MPLBACKEND', ''))\n",
    "print(statsmodels.__version__)\n",
    "print(np.__version__)\n",
    "print(pd.__version__)"
   ]
  },
  {
   "cell_type": "markdown",
   "metadata": {},
   "source": [
    "# Fetch Data"
   ]
  },
  {
   "cell_type": "code",
   "execution_count": 4,
   "metadata": {},
   "outputs": [],
   "source": [
    "url = 'http://192.168.0.156:8000/metrics?from=300'\n",
    "response = requests.get(url)"
   ]
  },
  {
   "cell_type": "code",
   "execution_count": 5,
   "metadata": {},
   "outputs": [
    {
     "name": "stdout",
     "output_type": "stream",
     "text": [
      "web\n"
     ]
    }
   ],
   "source": [
    "#response.status_code = 404\n",
    "if response.status_code == 200:\n",
    "    print(\"web\")\n",
    "    data = json.loads(response.content.decode('utf-8'))\n",
    "else:\n",
    "    print(\"local\")\n",
    "    with open('sample.json', 'r') as f:\n",
    "        data = json.load(f)\n"
   ]
  },
  {
   "cell_type": "markdown",
   "metadata": {},
   "source": [
    "# Tidy Data"
   ]
  },
  {
   "cell_type": "code",
   "execution_count": 47,
   "metadata": {},
   "outputs": [
    {
     "data": {
      "text/html": [
       "<div>\n",
       "<style scoped>\n",
       "    .dataframe tbody tr th:only-of-type {\n",
       "        vertical-align: middle;\n",
       "    }\n",
       "\n",
       "    .dataframe tbody tr th {\n",
       "        vertical-align: top;\n",
       "    }\n",
       "\n",
       "    .dataframe thead th {\n",
       "        text-align: right;\n",
       "    }\n",
       "</style>\n",
       "<table border=\"1\" class=\"dataframe\">\n",
       "  <thead>\n",
       "    <tr style=\"text-align: right;\">\n",
       "      <th></th>\n",
       "      <th>metric</th>\n",
       "      <th>ts</th>\n",
       "      <th>value</th>\n",
       "    </tr>\n",
       "  </thead>\n",
       "  <tbody>\n",
       "    <tr>\n",
       "      <td>0</td>\n",
       "      <td>humidity</td>\n",
       "      <td>1.574763e+09</td>\n",
       "      <td>55.155263</td>\n",
       "    </tr>\n",
       "    <tr>\n",
       "      <td>1</td>\n",
       "      <td>temperature</td>\n",
       "      <td>1.574763e+09</td>\n",
       "      <td>28.281578</td>\n",
       "    </tr>\n",
       "    <tr>\n",
       "      <td>2</td>\n",
       "      <td>humidity</td>\n",
       "      <td>1.574762e+09</td>\n",
       "      <td>55.061999</td>\n",
       "    </tr>\n",
       "    <tr>\n",
       "      <td>3</td>\n",
       "      <td>temperature</td>\n",
       "      <td>1.574762e+09</td>\n",
       "      <td>28.293999</td>\n",
       "    </tr>\n",
       "    <tr>\n",
       "      <td>4</td>\n",
       "      <td>humidity</td>\n",
       "      <td>1.574762e+09</td>\n",
       "      <td>54.840000</td>\n",
       "    </tr>\n",
       "    <tr>\n",
       "      <td>...</td>\n",
       "      <td>...</td>\n",
       "      <td>...</td>\n",
       "      <td>...</td>\n",
       "    </tr>\n",
       "    <tr>\n",
       "      <td>35677</td>\n",
       "      <td>temperature</td>\n",
       "      <td>1.569138e+09</td>\n",
       "      <td>24.498077</td>\n",
       "    </tr>\n",
       "    <tr>\n",
       "      <td>35678</td>\n",
       "      <td>humidity</td>\n",
       "      <td>1.569138e+09</td>\n",
       "      <td>78.126413</td>\n",
       "    </tr>\n",
       "    <tr>\n",
       "      <td>35679</td>\n",
       "      <td>temperature</td>\n",
       "      <td>1.569138e+09</td>\n",
       "      <td>24.500000</td>\n",
       "    </tr>\n",
       "    <tr>\n",
       "      <td>35680</td>\n",
       "      <td>humidity</td>\n",
       "      <td>1.569137e+09</td>\n",
       "      <td>78.282355</td>\n",
       "    </tr>\n",
       "    <tr>\n",
       "      <td>35681</td>\n",
       "      <td>temperature</td>\n",
       "      <td>1.569137e+09</td>\n",
       "      <td>24.500000</td>\n",
       "    </tr>\n",
       "  </tbody>\n",
       "</table>\n",
       "<p>35682 rows × 3 columns</p>\n",
       "</div>"
      ],
      "text/plain": [
       "            metric            ts      value\n",
       "0         humidity  1.574763e+09  55.155263\n",
       "1      temperature  1.574763e+09  28.281578\n",
       "2         humidity  1.574762e+09  55.061999\n",
       "3      temperature  1.574762e+09  28.293999\n",
       "4         humidity  1.574762e+09  54.840000\n",
       "...            ...           ...        ...\n",
       "35677  temperature  1.569138e+09  24.498077\n",
       "35678     humidity  1.569138e+09  78.126413\n",
       "35679  temperature  1.569138e+09  24.500000\n",
       "35680     humidity  1.569137e+09  78.282355\n",
       "35681  temperature  1.569137e+09  24.500000\n",
       "\n",
       "[35682 rows x 3 columns]"
      ]
     },
     "execution_count": 47,
     "metadata": {},
     "output_type": "execute_result"
    }
   ],
   "source": [
    "df = pd.DataFrame(data)\n",
    "df"
   ]
  },
  {
   "cell_type": "code",
   "execution_count": 48,
   "metadata": {},
   "outputs": [
    {
     "data": {
      "text/html": [
       "<div>\n",
       "<style scoped>\n",
       "    .dataframe tbody tr th:only-of-type {\n",
       "        vertical-align: middle;\n",
       "    }\n",
       "\n",
       "    .dataframe tbody tr th {\n",
       "        vertical-align: top;\n",
       "    }\n",
       "\n",
       "    .dataframe thead th {\n",
       "        text-align: right;\n",
       "    }\n",
       "</style>\n",
       "<table border=\"1\" class=\"dataframe\">\n",
       "  <thead>\n",
       "    <tr style=\"text-align: right;\">\n",
       "      <th></th>\n",
       "      <th>metric</th>\n",
       "      <th>ts</th>\n",
       "      <th>value</th>\n",
       "    </tr>\n",
       "  </thead>\n",
       "  <tbody>\n",
       "    <tr>\n",
       "      <td>0</td>\n",
       "      <td>humidity</td>\n",
       "      <td>2019-11-26 10:04:23.728200674</td>\n",
       "      <td>55.155263</td>\n",
       "    </tr>\n",
       "    <tr>\n",
       "      <td>1</td>\n",
       "      <td>temperature</td>\n",
       "      <td>2019-11-26 10:04:23.728200674</td>\n",
       "      <td>28.281578</td>\n",
       "    </tr>\n",
       "    <tr>\n",
       "      <td>2</td>\n",
       "      <td>humidity</td>\n",
       "      <td>2019-11-26 10:00:00.954467535</td>\n",
       "      <td>55.061999</td>\n",
       "    </tr>\n",
       "    <tr>\n",
       "      <td>3</td>\n",
       "      <td>temperature</td>\n",
       "      <td>2019-11-26 10:00:00.954467535</td>\n",
       "      <td>28.293999</td>\n",
       "    </tr>\n",
       "    <tr>\n",
       "      <td>4</td>\n",
       "      <td>humidity</td>\n",
       "      <td>2019-11-26 09:55:01.115954399</td>\n",
       "      <td>54.840000</td>\n",
       "    </tr>\n",
       "    <tr>\n",
       "      <td>...</td>\n",
       "      <td>...</td>\n",
       "      <td>...</td>\n",
       "      <td>...</td>\n",
       "    </tr>\n",
       "    <tr>\n",
       "      <td>35677</td>\n",
       "      <td>temperature</td>\n",
       "      <td>2019-09-22 07:40:04.500892878</td>\n",
       "      <td>24.498077</td>\n",
       "    </tr>\n",
       "    <tr>\n",
       "      <td>35678</td>\n",
       "      <td>humidity</td>\n",
       "      <td>2019-09-22 07:35:00.818114996</td>\n",
       "      <td>78.126413</td>\n",
       "    </tr>\n",
       "    <tr>\n",
       "      <td>35679</td>\n",
       "      <td>temperature</td>\n",
       "      <td>2019-09-22 07:35:00.818114996</td>\n",
       "      <td>24.500000</td>\n",
       "    </tr>\n",
       "    <tr>\n",
       "      <td>35680</td>\n",
       "      <td>humidity</td>\n",
       "      <td>2019-09-22 07:30:08.879276752</td>\n",
       "      <td>78.282355</td>\n",
       "    </tr>\n",
       "    <tr>\n",
       "      <td>35681</td>\n",
       "      <td>temperature</td>\n",
       "      <td>2019-09-22 07:30:08.879276752</td>\n",
       "      <td>24.500000</td>\n",
       "    </tr>\n",
       "  </tbody>\n",
       "</table>\n",
       "<p>35682 rows × 3 columns</p>\n",
       "</div>"
      ],
      "text/plain": [
       "            metric                            ts      value\n",
       "0         humidity 2019-11-26 10:04:23.728200674  55.155263\n",
       "1      temperature 2019-11-26 10:04:23.728200674  28.281578\n",
       "2         humidity 2019-11-26 10:00:00.954467535  55.061999\n",
       "3      temperature 2019-11-26 10:00:00.954467535  28.293999\n",
       "4         humidity 2019-11-26 09:55:01.115954399  54.840000\n",
       "...            ...                           ...        ...\n",
       "35677  temperature 2019-09-22 07:40:04.500892878  24.498077\n",
       "35678     humidity 2019-09-22 07:35:00.818114996  78.126413\n",
       "35679  temperature 2019-09-22 07:35:00.818114996  24.500000\n",
       "35680     humidity 2019-09-22 07:30:08.879276752  78.282355\n",
       "35681  temperature 2019-09-22 07:30:08.879276752  24.500000\n",
       "\n",
       "[35682 rows x 3 columns]"
      ]
     },
     "execution_count": 48,
     "metadata": {},
     "output_type": "execute_result"
    }
   ],
   "source": [
    "df['ts'] = pd.to_datetime(df['ts'], unit='s')\n",
    "df"
   ]
  },
  {
   "cell_type": "code",
   "execution_count": 49,
   "metadata": {},
   "outputs": [
    {
     "data": {
      "text/html": [
       "<div>\n",
       "<style scoped>\n",
       "    .dataframe tbody tr th:only-of-type {\n",
       "        vertical-align: middle;\n",
       "    }\n",
       "\n",
       "    .dataframe tbody tr th {\n",
       "        vertical-align: top;\n",
       "    }\n",
       "\n",
       "    .dataframe thead th {\n",
       "        text-align: right;\n",
       "    }\n",
       "</style>\n",
       "<table border=\"1\" class=\"dataframe\">\n",
       "  <thead>\n",
       "    <tr style=\"text-align: right;\">\n",
       "      <th></th>\n",
       "      <th>metric</th>\n",
       "      <th>value</th>\n",
       "    </tr>\n",
       "    <tr>\n",
       "      <th>ts</th>\n",
       "      <th></th>\n",
       "      <th></th>\n",
       "    </tr>\n",
       "  </thead>\n",
       "  <tbody>\n",
       "    <tr>\n",
       "      <td>2019-11-26 10:04:23.728200674</td>\n",
       "      <td>humidity</td>\n",
       "      <td>55.155263</td>\n",
       "    </tr>\n",
       "    <tr>\n",
       "      <td>2019-11-26 10:04:23.728200674</td>\n",
       "      <td>temperature</td>\n",
       "      <td>28.281578</td>\n",
       "    </tr>\n",
       "    <tr>\n",
       "      <td>2019-11-26 10:00:00.954467535</td>\n",
       "      <td>humidity</td>\n",
       "      <td>55.061999</td>\n",
       "    </tr>\n",
       "    <tr>\n",
       "      <td>2019-11-26 10:00:00.954467535</td>\n",
       "      <td>temperature</td>\n",
       "      <td>28.293999</td>\n",
       "    </tr>\n",
       "    <tr>\n",
       "      <td>2019-11-26 09:55:01.115954399</td>\n",
       "      <td>humidity</td>\n",
       "      <td>54.840000</td>\n",
       "    </tr>\n",
       "    <tr>\n",
       "      <td>...</td>\n",
       "      <td>...</td>\n",
       "      <td>...</td>\n",
       "    </tr>\n",
       "    <tr>\n",
       "      <td>2019-09-22 07:40:04.500892878</td>\n",
       "      <td>temperature</td>\n",
       "      <td>24.498077</td>\n",
       "    </tr>\n",
       "    <tr>\n",
       "      <td>2019-09-22 07:35:00.818114996</td>\n",
       "      <td>humidity</td>\n",
       "      <td>78.126413</td>\n",
       "    </tr>\n",
       "    <tr>\n",
       "      <td>2019-09-22 07:35:00.818114996</td>\n",
       "      <td>temperature</td>\n",
       "      <td>24.500000</td>\n",
       "    </tr>\n",
       "    <tr>\n",
       "      <td>2019-09-22 07:30:08.879276752</td>\n",
       "      <td>humidity</td>\n",
       "      <td>78.282355</td>\n",
       "    </tr>\n",
       "    <tr>\n",
       "      <td>2019-09-22 07:30:08.879276752</td>\n",
       "      <td>temperature</td>\n",
       "      <td>24.500000</td>\n",
       "    </tr>\n",
       "  </tbody>\n",
       "</table>\n",
       "<p>35682 rows × 2 columns</p>\n",
       "</div>"
      ],
      "text/plain": [
       "                                    metric      value\n",
       "ts                                                   \n",
       "2019-11-26 10:04:23.728200674     humidity  55.155263\n",
       "2019-11-26 10:04:23.728200674  temperature  28.281578\n",
       "2019-11-26 10:00:00.954467535     humidity  55.061999\n",
       "2019-11-26 10:00:00.954467535  temperature  28.293999\n",
       "2019-11-26 09:55:01.115954399     humidity  54.840000\n",
       "...                                    ...        ...\n",
       "2019-09-22 07:40:04.500892878  temperature  24.498077\n",
       "2019-09-22 07:35:00.818114996     humidity  78.126413\n",
       "2019-09-22 07:35:00.818114996  temperature  24.500000\n",
       "2019-09-22 07:30:08.879276752     humidity  78.282355\n",
       "2019-09-22 07:30:08.879276752  temperature  24.500000\n",
       "\n",
       "[35682 rows x 2 columns]"
      ]
     },
     "execution_count": 49,
     "metadata": {},
     "output_type": "execute_result"
    }
   ],
   "source": [
    "df = df.set_index('ts')\n",
    "df"
   ]
  },
  {
   "cell_type": "code",
   "execution_count": 50,
   "metadata": {},
   "outputs": [
    {
     "data": {
      "text/plain": [
       "DatetimeIndex(['2019-09-22 07:00:00', '2019-09-22 08:00:00',\n",
       "               '2019-09-22 09:00:00', '2019-09-22 10:00:00',\n",
       "               '2019-09-22 11:00:00', '2019-09-22 12:00:00',\n",
       "               '2019-09-22 13:00:00', '2019-09-22 14:00:00',\n",
       "               '2019-09-22 15:00:00', '2019-09-22 16:00:00',\n",
       "               ...\n",
       "               '2019-11-26 01:00:00', '2019-11-26 02:00:00',\n",
       "               '2019-11-26 03:00:00', '2019-11-26 04:00:00',\n",
       "               '2019-11-26 05:00:00', '2019-11-26 06:00:00',\n",
       "               '2019-11-26 07:00:00', '2019-11-26 08:00:00',\n",
       "               '2019-11-26 09:00:00', '2019-11-26 10:00:00'],\n",
       "              dtype='datetime64[ns]', name='ts', length=1564, freq='H')"
      ]
     },
     "execution_count": 50,
     "metadata": {},
     "output_type": "execute_result"
    }
   ],
   "source": [
    "df = df.dropna()\n",
    "df_temp = df[df['metric'] == 'temperature'][['value']].resample('H').mean()\n",
    "df_temp.index"
   ]
  },
  {
   "cell_type": "code",
   "execution_count": 51,
   "metadata": {},
   "outputs": [
    {
     "data": {
      "text/plain": [
       "<matplotlib.axes._subplots.AxesSubplot at 0x1256faf50>"
      ]
     },
     "execution_count": 51,
     "metadata": {},
     "output_type": "execute_result"
    },
    {
     "data": {
      "image/png": "[encoded data removed]",
      "text/plain": [
       "<Figure size 432x288 with 1 Axes>"
      ]
     },
     "metadata": {
      "needs_background": "light"
     },
     "output_type": "display_data"
    }
   ],
   "source": [
    "df_temp.plot()"
   ]
  },
  {
   "cell_type": "markdown",
   "metadata": {},
   "source": [
    "# Differencing"
   ]
  },
  {
   "cell_type": "code",
   "execution_count": 52,
   "metadata": {},
   "outputs": [],
   "source": [
    "df_lag = df_temp.shift()"
   ]
  },
  {
   "cell_type": "code",
   "execution_count": 53,
   "metadata": {},
   "outputs": [],
   "source": [
    "df_diff = df_temp - df_lag"
   ]
  },
  {
   "cell_type": "code",
   "execution_count": 54,
   "metadata": {},
   "outputs": [
    {
     "data": {
      "text/plain": [
       "<matplotlib.axes._subplots.AxesSubplot at 0x12664f310>"
      ]
     },
     "execution_count": 54,
     "metadata": {},
     "output_type": "execute_result"
    },
    {
     "data": {
      "image/png": "[encoded data removed]",
      "text/plain": [
       "<Figure size 432x288 with 1 Axes>"
      ]
     },
     "metadata": {
      "needs_background": "light"
     },
     "output_type": "display_data"
    }
   ],
   "source": [
    "df_diff.plot()"
   ]
  },
  {
   "cell_type": "code",
   "execution_count": 55,
   "metadata": {},
   "outputs": [],
   "source": [
    "df_acf = pd.DataFrame(stattools.acf(df_temp.dropna(), fft=True))"
   ]
  },
  {
   "cell_type": "code",
   "execution_count": 56,
   "metadata": {},
   "outputs": [
    {
     "data": {
      "text/plain": [
       "<matplotlib.axes._subplots.AxesSubplot at 0x125602810>"
      ]
     },
     "execution_count": 56,
     "metadata": {},
     "output_type": "execute_result"
    },
    {
     "data": {
      "image/png": "[encoded data removed]",
      "text/plain": [
       "<Figure size 432x288 with 1 Axes>"
      ]
     },
     "metadata": {
      "needs_background": "light"
     },
     "output_type": "display_data"
    }
   ],
   "source": [
    "df_acf.plot()"
   ]
  },
  {
   "cell_type": "code",
   "execution_count": 57,
   "metadata": {},
   "outputs": [],
   "source": [
    "df_pacf = pd.DataFrame(stattools.pacf(df_temp.dropna(), method='ols-inefficient'))"
   ]
  },
  {
   "cell_type": "code",
   "execution_count": 58,
   "metadata": {},
   "outputs": [
    {
     "data": {
      "text/plain": [
       "<matplotlib.axes._subplots.AxesSubplot at 0x12684de50>"
      ]
     },
     "execution_count": 58,
     "metadata": {},
     "output_type": "execute_result"
    },
    {
     "data": {
      "image/png": "[encoded data removed]",
      "text/plain": [
       "<Figure size 432x288 with 1 Axes>"
      ]
     },
     "metadata": {
      "needs_background": "light"
     },
     "output_type": "display_data"
    }
   ],
   "source": [
    "df_pacf.plot()"
   ]
  },
  {
   "cell_type": "code",
   "execution_count": 59,
   "metadata": {},
   "outputs": [
    {
     "data": {
      "text/html": [
       "<div>\n",
       "<style scoped>\n",
       "    .dataframe tbody tr th:only-of-type {\n",
       "        vertical-align: middle;\n",
       "    }\n",
       "\n",
       "    .dataframe tbody tr th {\n",
       "        vertical-align: top;\n",
       "    }\n",
       "\n",
       "    .dataframe thead th {\n",
       "        text-align: right;\n",
       "    }\n",
       "</style>\n",
       "<table border=\"1\" class=\"dataframe\">\n",
       "  <thead>\n",
       "    <tr style=\"text-align: right;\">\n",
       "      <th></th>\n",
       "      <th>0</th>\n",
       "    </tr>\n",
       "  </thead>\n",
       "  <tbody>\n",
       "    <tr>\n",
       "      <td>0</td>\n",
       "      <td>1.000000</td>\n",
       "    </tr>\n",
       "    <tr>\n",
       "      <td>1</td>\n",
       "      <td>0.972626</td>\n",
       "    </tr>\n",
       "    <tr>\n",
       "      <td>2</td>\n",
       "      <td>-0.838324</td>\n",
       "    </tr>\n",
       "    <tr>\n",
       "      <td>3</td>\n",
       "      <td>0.170943</td>\n",
       "    </tr>\n",
       "    <tr>\n",
       "      <td>4</td>\n",
       "      <td>-0.002516</td>\n",
       "    </tr>\n",
       "    <tr>\n",
       "      <td>5</td>\n",
       "      <td>-0.013720</td>\n",
       "    </tr>\n",
       "  </tbody>\n",
       "</table>\n",
       "</div>"
      ],
      "text/plain": [
       "          0\n",
       "0  1.000000\n",
       "1  0.972626\n",
       "2 -0.838324\n",
       "3  0.170943\n",
       "4 -0.002516\n",
       "5 -0.013720"
      ]
     },
     "execution_count": 59,
     "metadata": {},
     "output_type": "execute_result"
    }
   ],
   "source": [
    "df_pacf[:6]"
   ]
  },
  {
   "cell_type": "markdown",
   "metadata": {},
   "source": [
    "## ACF\n",
    "\n",
    "The Auto Correlation Function, has strong correlation at lags 12, 24, 36 but overall decays slowly.\n",
    "\n",
    "## PACF\n",
    "\n",
    "The Partial Auto Correlation function drops off rapidly after 2 lags which suggests a strong Auto Regressive relationship. \n",
    "\n",
    "Lets look at fitting an ARIMA model next."
   ]
  },
  {
   "cell_type": "markdown",
   "metadata": {},
   "source": [
    "# ARIMA"
   ]
  },
  {
   "cell_type": "code",
   "execution_count": 60,
   "metadata": {},
   "outputs": [],
   "source": [
    "df_temp.to_csv(\"data.csv\")"
   ]
  },
  {
   "cell_type": "code",
   "execution_count": 61,
   "metadata": {},
   "outputs": [
    {
     "data": {
      "text/plain": [
       "DatetimeIndex(['2019-09-22 07:00:00', '2019-09-22 08:00:00',\n",
       "               '2019-09-22 09:00:00', '2019-09-22 10:00:00',\n",
       "               '2019-09-22 11:00:00', '2019-09-22 12:00:00',\n",
       "               '2019-09-22 13:00:00', '2019-09-22 14:00:00',\n",
       "               '2019-09-22 15:00:00', '2019-09-22 16:00:00',\n",
       "               ...\n",
       "               '2019-11-26 01:00:00', '2019-11-26 02:00:00',\n",
       "               '2019-11-26 03:00:00', '2019-11-26 04:00:00',\n",
       "               '2019-11-26 05:00:00', '2019-11-26 06:00:00',\n",
       "               '2019-11-26 07:00:00', '2019-11-26 08:00:00',\n",
       "               '2019-11-26 09:00:00', '2019-11-26 10:00:00'],\n",
       "              dtype='datetime64[ns]', name='ts', length=1564, freq='H')"
      ]
     },
     "execution_count": 61,
     "metadata": {},
     "output_type": "execute_result"
    }
   ],
   "source": [
    "df_temp.index"
   ]
  },
  {
   "cell_type": "code",
   "execution_count": 98,
   "metadata": {},
   "outputs": [
    {
     "name": "stderr",
     "output_type": "stream",
     "text": [
      "/Users/jpeak/projects/temperature-timeseries/v/lib/python3.7/site-packages/statsmodels/tsa/base/tsa_model.py:219: ValueWarning: A date index has been provided, but it has no associated frequency information and so will be ignored when e.g. forecasting.\n",
      "  ' ignored when e.g. forecasting.', ValueWarning)\n",
      "/Users/jpeak/projects/temperature-timeseries/v/lib/python3.7/site-packages/statsmodels/tsa/base/tsa_model.py:219: ValueWarning: A date index has been provided, but it has no associated frequency information and so will be ignored when e.g. forecasting.\n",
      "  ' ignored when e.g. forecasting.', ValueWarning)\n"
     ]
    }
   ],
   "source": [
    "model = ARIMA(df_temp.dropna(), (2,1,2)).fit(disp=False)"
   ]
  },
  {
   "cell_type": "code",
   "execution_count": 99,
   "metadata": {},
   "outputs": [
    {
     "data": {
      "text/html": [
       "<table class=\"simpletable\">\n",
       "<caption>ARIMA Model Results</caption>\n",
       "<tr>\n",
       "  <th>Dep. Variable:</th>      <td>D.value</td>     <th>  No. Observations:  </th>   <td>1492</td>  \n",
       "</tr>\n",
       "<tr>\n",
       "  <th>Model:</th>          <td>ARIMA(2, 1, 2)</td>  <th>  Log Likelihood     </th> <td>-472.515</td>\n",
       "</tr>\n",
       "<tr>\n",
       "  <th>Method:</th>             <td>css-mle</td>     <th>  S.D. of innovations</th>   <td>0.332</td> \n",
       "</tr>\n",
       "<tr>\n",
       "  <th>Date:</th>          <td>Tue, 26 Nov 2019</td> <th>  AIC                </th>  <td>957.031</td>\n",
       "</tr>\n",
       "<tr>\n",
       "  <th>Time:</th>              <td>21:40:10</td>     <th>  BIC                </th>  <td>988.878</td>\n",
       "</tr>\n",
       "<tr>\n",
       "  <th>Sample:</th>                <td>1</td>        <th>  HQIC               </th>  <td>968.898</td>\n",
       "</tr>\n",
       "<tr>\n",
       "  <th></th>                       <td> </td>        <th>                     </th>     <td> </td>   \n",
       "</tr>\n",
       "</table>\n",
       "<table class=\"simpletable\">\n",
       "<tr>\n",
       "        <td></td>           <th>coef</th>     <th>std err</th>      <th>z</th>      <th>P>|z|</th>  <th>[0.025</th>    <th>0.975]</th>  \n",
       "</tr>\n",
       "<tr>\n",
       "  <th>const</th>         <td>    0.0022</td> <td>    0.005</td> <td>    0.466</td> <td> 0.641</td> <td>   -0.007</td> <td>    0.011</td>\n",
       "</tr>\n",
       "<tr>\n",
       "  <th>ar.L1.D.value</th> <td>    1.7360</td> <td>    0.018</td> <td>   97.392</td> <td> 0.000</td> <td>    1.701</td> <td>    1.771</td>\n",
       "</tr>\n",
       "<tr>\n",
       "  <th>ar.L2.D.value</th> <td>   -0.8092</td> <td>    0.018</td> <td>  -44.887</td> <td> 0.000</td> <td>   -0.844</td> <td>   -0.774</td>\n",
       "</tr>\n",
       "<tr>\n",
       "  <th>ma.L1.D.value</th> <td>   -0.8143</td> <td>    0.031</td> <td>  -26.679</td> <td> 0.000</td> <td>   -0.874</td> <td>   -0.754</td>\n",
       "</tr>\n",
       "<tr>\n",
       "  <th>ma.L2.D.value</th> <td>   -0.1467</td> <td>    0.032</td> <td>   -4.581</td> <td> 0.000</td> <td>   -0.209</td> <td>   -0.084</td>\n",
       "</tr>\n",
       "</table>\n",
       "<table class=\"simpletable\">\n",
       "<caption>Roots</caption>\n",
       "<tr>\n",
       "    <td></td>   <th>            Real</th>  <th>         Imaginary</th> <th>         Modulus</th>  <th>        Frequency</th>\n",
       "</tr>\n",
       "<tr>\n",
       "  <th>AR.1</th> <td>           1.0727</td> <td>          -0.2918j</td> <td>           1.1117</td> <td>          -0.0423</td>\n",
       "</tr>\n",
       "<tr>\n",
       "  <th>AR.2</th> <td>           1.0727</td> <td>          +0.2918j</td> <td>           1.1117</td> <td>           0.0423</td>\n",
       "</tr>\n",
       "<tr>\n",
       "  <th>MA.1</th> <td>           1.0351</td> <td>          +0.0000j</td> <td>           1.0351</td> <td>           0.0000</td>\n",
       "</tr>\n",
       "<tr>\n",
       "  <th>MA.2</th> <td>          -6.5853</td> <td>          +0.0000j</td> <td>           6.5853</td> <td>           0.5000</td>\n",
       "</tr>\n",
       "</table>"
      ],
      "text/plain": [
       "<class 'statsmodels.iolib.summary.Summary'>\n",
       "\"\"\"\n",
       "                             ARIMA Model Results                              \n",
       "==============================================================================\n",
       "Dep. Variable:                D.value   No. Observations:                 1492\n",
       "Model:                 ARIMA(2, 1, 2)   Log Likelihood                -472.515\n",
       "Method:                       css-mle   S.D. of innovations              0.332\n",
       "Date:                Tue, 26 Nov 2019   AIC                            957.031\n",
       "Time:                        21:40:10   BIC                            988.878\n",
       "Sample:                             1   HQIC                           968.898\n",
       "                                                                              \n",
       "=================================================================================\n",
       "                    coef    std err          z      P>|z|      [0.025      0.975]\n",
       "---------------------------------------------------------------------------------\n",
       "const             0.0022      0.005      0.466      0.641      -0.007       0.011\n",
       "ar.L1.D.value     1.7360      0.018     97.392      0.000       1.701       1.771\n",
       "ar.L2.D.value    -0.8092      0.018    -44.887      0.000      -0.844      -0.774\n",
       "ma.L1.D.value    -0.8143      0.031    -26.679      0.000      -0.874      -0.754\n",
       "ma.L2.D.value    -0.1467      0.032     -4.581      0.000      -0.209      -0.084\n",
       "                                    Roots                                    \n",
       "=============================================================================\n",
       "                  Real          Imaginary           Modulus         Frequency\n",
       "-----------------------------------------------------------------------------\n",
       "AR.1            1.0727           -0.2918j            1.1117           -0.0423\n",
       "AR.2            1.0727           +0.2918j            1.1117            0.0423\n",
       "MA.1            1.0351           +0.0000j            1.0351            0.0000\n",
       "MA.2           -6.5853           +0.0000j            6.5853            0.5000\n",
       "-----------------------------------------------------------------------------\n",
       "\"\"\""
      ]
     },
     "execution_count": 99,
     "metadata": {},
     "output_type": "execute_result"
    }
   ],
   "source": [
    "model.summary()"
   ]
  },
  {
   "cell_type": "code",
   "execution_count": null,
   "metadata": {},
   "outputs": [],
   "source": []
  }
 ],
 "metadata": {
  "kernelspec": {
   "display_name": "Python 3",
   "language": "python",
   "name": "python3"
  },
  "language_info": {
   "codemirror_mode": {
    "name": "ipython",
    "version": 3
   },
   "file_extension": ".py",
   "mimetype": "text/x-python",
   "name": "python",
   "nbconvert_exporter": "python",
   "pygments_lexer": "ipython3",
   "version": "3.7.4"
  }
 },
 "nbformat": 4,
 "nbformat_minor": 4
}
